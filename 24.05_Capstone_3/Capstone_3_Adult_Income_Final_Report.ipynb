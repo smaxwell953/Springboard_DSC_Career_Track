{
 "cells": [
  {
   "cell_type": "markdown",
   "metadata": {},
   "source": [
    "<center><h1>Adult Income Analysis</h1></center>\n",
    "<center><h2>May 16, 2021</h2></center>"
   ]
  },
  {
   "cell_type": "markdown",
   "metadata": {},
   "source": [
    "<h2>Contents</h2>\n",
    "<h3><ol>\n",
    "    <li>Import Libraries and Data</li><br>\n",
    "    <li>Preliminary Data Analysis</li><br>\n",
    "    <li>Data Wrangling</li><br>\n",
    "    <li>Data Visualization</li><br>\n",
    "    <li>Data Preprocessing</li><br>\n",
    "    <li>Modeling</li><br>\n",
    "    <li>Best Features</li><br>\n",
    "    <li>Conclusion</li>\n",
    "</ol></h3>"
   ]
  },
  {
   "cell_type": "markdown",
   "metadata": {},
   "source": [
    "<h2>1. Import Libraries and Data</h2>"
   ]
  },
  {
   "cell_type": "code",
   "execution_count": 1,
   "metadata": {},
   "outputs": [],
   "source": [
    "#import needed libraries\n",
    "import numpy as np \n",
    "import pandas as pd\n",
    "import matplotlib.pyplot as plt\n",
    "import seaborn as sns\n",
    "%matplotlib inline\n",
    "\n",
    "from sklearn import tree, metrics\n",
    "from sklearn.metrics import accuracy_score\n",
    "from sklearn.preprocessing import scale\n",
    "\n",
    "from sklearn.linear_model import LogisticRegression\n",
    "from sklearn.model_selection import train_test_split\n",
    "from sklearn.model_selection import GridSearchCV\n",
    "from sklearn.ensemble import RandomForestClassifier\n",
    "from sklearn.datasets import make_classification"
   ]
  },
  {
   "cell_type": "code",
   "execution_count": 2,
   "metadata": {},
   "outputs": [],
   "source": [
    "#import data\n",
    "income = pd.read_csv('adult.csv')"
   ]
  },
  {
   "cell_type": "markdown",
   "metadata": {},
   "source": [
    "<h2>2. Preliminary Data Analysis</h2>\n",
    "<h3>2a. Columns and types</h3>"
   ]
  },
  {
   "cell_type": "code",
   "execution_count": 3,
   "metadata": {},
   "outputs": [
    {
     "name": "stdout",
     "output_type": "stream",
     "text": [
      "<class 'pandas.core.frame.DataFrame'>\n",
      "RangeIndex: 48842 entries, 0 to 48841\n",
      "Data columns (total 15 columns):\n",
      " #   Column           Non-Null Count  Dtype \n",
      "---  ------           --------------  ----- \n",
      " 0   age              48842 non-null  int64 \n",
      " 1   workclass        48842 non-null  object\n",
      " 2   fnlwgt           48842 non-null  int64 \n",
      " 3   education        48842 non-null  object\n",
      " 4   educational-num  48842 non-null  int64 \n",
      " 5   marital-status   48842 non-null  object\n",
      " 6   occupation       48842 non-null  object\n",
      " 7   relationship     48842 non-null  object\n",
      " 8   race             48842 non-null  object\n",
      " 9   gender           48842 non-null  object\n",
      " 10  capital-gain     48842 non-null  int64 \n",
      " 11  capital-loss     48842 non-null  int64 \n",
      " 12  hours-per-week   48842 non-null  int64 \n",
      " 13  native-country   48842 non-null  object\n",
      " 14  income           48842 non-null  object\n",
      "dtypes: int64(6), object(9)\n",
      "memory usage: 5.6+ MB\n"
     ]
    }
   ],
   "source": [
    "income.info()"
   ]
  },
  {
   "cell_type": "markdown",
   "metadata": {},
   "source": [
    "<h3>2b. Data</h3>"
   ]
  },
  {
   "cell_type": "code",
   "execution_count": 4,
   "metadata": {},
   "outputs": [
    {
     "data": {
      "text/html": [
       "<div>\n",
       "<style scoped>\n",
       "    .dataframe tbody tr th:only-of-type {\n",
       "        vertical-align: middle;\n",
       "    }\n",
       "\n",
       "    .dataframe tbody tr th {\n",
       "        vertical-align: top;\n",
       "    }\n",
       "\n",
       "    .dataframe thead th {\n",
       "        text-align: right;\n",
       "    }\n",
       "</style>\n",
       "<table border=\"1\" class=\"dataframe\">\n",
       "  <thead>\n",
       "    <tr style=\"text-align: right;\">\n",
       "      <th></th>\n",
       "      <th>age</th>\n",
       "      <th>workclass</th>\n",
       "      <th>fnlwgt</th>\n",
       "      <th>education</th>\n",
       "      <th>educational-num</th>\n",
       "      <th>marital-status</th>\n",
       "      <th>occupation</th>\n",
       "      <th>relationship</th>\n",
       "      <th>race</th>\n",
       "      <th>gender</th>\n",
       "      <th>capital-gain</th>\n",
       "      <th>capital-loss</th>\n",
       "      <th>hours-per-week</th>\n",
       "      <th>native-country</th>\n",
       "      <th>income</th>\n",
       "    </tr>\n",
       "  </thead>\n",
       "  <tbody>\n",
       "    <tr>\n",
       "      <th>0</th>\n",
       "      <td>25</td>\n",
       "      <td>Private</td>\n",
       "      <td>226802</td>\n",
       "      <td>11th</td>\n",
       "      <td>7</td>\n",
       "      <td>Never-married</td>\n",
       "      <td>Machine-op-inspct</td>\n",
       "      <td>Own-child</td>\n",
       "      <td>Black</td>\n",
       "      <td>Male</td>\n",
       "      <td>0</td>\n",
       "      <td>0</td>\n",
       "      <td>40</td>\n",
       "      <td>United-States</td>\n",
       "      <td>&lt;=50K</td>\n",
       "    </tr>\n",
       "    <tr>\n",
       "      <th>1</th>\n",
       "      <td>38</td>\n",
       "      <td>Private</td>\n",
       "      <td>89814</td>\n",
       "      <td>HS-grad</td>\n",
       "      <td>9</td>\n",
       "      <td>Married-civ-spouse</td>\n",
       "      <td>Farming-fishing</td>\n",
       "      <td>Husband</td>\n",
       "      <td>White</td>\n",
       "      <td>Male</td>\n",
       "      <td>0</td>\n",
       "      <td>0</td>\n",
       "      <td>50</td>\n",
       "      <td>United-States</td>\n",
       "      <td>&lt;=50K</td>\n",
       "    </tr>\n",
       "    <tr>\n",
       "      <th>2</th>\n",
       "      <td>28</td>\n",
       "      <td>Local-gov</td>\n",
       "      <td>336951</td>\n",
       "      <td>Assoc-acdm</td>\n",
       "      <td>12</td>\n",
       "      <td>Married-civ-spouse</td>\n",
       "      <td>Protective-serv</td>\n",
       "      <td>Husband</td>\n",
       "      <td>White</td>\n",
       "      <td>Male</td>\n",
       "      <td>0</td>\n",
       "      <td>0</td>\n",
       "      <td>40</td>\n",
       "      <td>United-States</td>\n",
       "      <td>&gt;50K</td>\n",
       "    </tr>\n",
       "    <tr>\n",
       "      <th>3</th>\n",
       "      <td>44</td>\n",
       "      <td>Private</td>\n",
       "      <td>160323</td>\n",
       "      <td>Some-college</td>\n",
       "      <td>10</td>\n",
       "      <td>Married-civ-spouse</td>\n",
       "      <td>Machine-op-inspct</td>\n",
       "      <td>Husband</td>\n",
       "      <td>Black</td>\n",
       "      <td>Male</td>\n",
       "      <td>7688</td>\n",
       "      <td>0</td>\n",
       "      <td>40</td>\n",
       "      <td>United-States</td>\n",
       "      <td>&gt;50K</td>\n",
       "    </tr>\n",
       "    <tr>\n",
       "      <th>4</th>\n",
       "      <td>18</td>\n",
       "      <td>?</td>\n",
       "      <td>103497</td>\n",
       "      <td>Some-college</td>\n",
       "      <td>10</td>\n",
       "      <td>Never-married</td>\n",
       "      <td>?</td>\n",
       "      <td>Own-child</td>\n",
       "      <td>White</td>\n",
       "      <td>Female</td>\n",
       "      <td>0</td>\n",
       "      <td>0</td>\n",
       "      <td>30</td>\n",
       "      <td>United-States</td>\n",
       "      <td>&lt;=50K</td>\n",
       "    </tr>\n",
       "  </tbody>\n",
       "</table>\n",
       "</div>"
      ],
      "text/plain": [
       "   age  workclass  fnlwgt     education  educational-num      marital-status  \\\n",
       "0   25    Private  226802          11th                7       Never-married   \n",
       "1   38    Private   89814       HS-grad                9  Married-civ-spouse   \n",
       "2   28  Local-gov  336951    Assoc-acdm               12  Married-civ-spouse   \n",
       "3   44    Private  160323  Some-college               10  Married-civ-spouse   \n",
       "4   18          ?  103497  Some-college               10       Never-married   \n",
       "\n",
       "          occupation relationship   race  gender  capital-gain  capital-loss  \\\n",
       "0  Machine-op-inspct    Own-child  Black    Male             0             0   \n",
       "1    Farming-fishing      Husband  White    Male             0             0   \n",
       "2    Protective-serv      Husband  White    Male             0             0   \n",
       "3  Machine-op-inspct      Husband  Black    Male          7688             0   \n",
       "4                  ?    Own-child  White  Female             0             0   \n",
       "\n",
       "   hours-per-week native-country income  \n",
       "0              40  United-States  <=50K  \n",
       "1              50  United-States  <=50K  \n",
       "2              40  United-States   >50K  \n",
       "3              40  United-States   >50K  \n",
       "4              30  United-States  <=50K  "
      ]
     },
     "execution_count": 4,
     "metadata": {},
     "output_type": "execute_result"
    }
   ],
   "source": [
    "income.head()"
   ]
  },
  {
   "cell_type": "markdown",
   "metadata": {},
   "source": [
    "<h3>2c. Summary Statistics</h3>"
   ]
  },
  {
   "cell_type": "code",
   "execution_count": 5,
   "metadata": {},
   "outputs": [
    {
     "data": {
      "text/html": [
       "<div>\n",
       "<style scoped>\n",
       "    .dataframe tbody tr th:only-of-type {\n",
       "        vertical-align: middle;\n",
       "    }\n",
       "\n",
       "    .dataframe tbody tr th {\n",
       "        vertical-align: top;\n",
       "    }\n",
       "\n",
       "    .dataframe thead th {\n",
       "        text-align: right;\n",
       "    }\n",
       "</style>\n",
       "<table border=\"1\" class=\"dataframe\">\n",
       "  <thead>\n",
       "    <tr style=\"text-align: right;\">\n",
       "      <th></th>\n",
       "      <th>age</th>\n",
       "      <th>fnlwgt</th>\n",
       "      <th>educational-num</th>\n",
       "      <th>capital-gain</th>\n",
       "      <th>capital-loss</th>\n",
       "      <th>hours-per-week</th>\n",
       "    </tr>\n",
       "  </thead>\n",
       "  <tbody>\n",
       "    <tr>\n",
       "      <th>count</th>\n",
       "      <td>48842.000000</td>\n",
       "      <td>4.884200e+04</td>\n",
       "      <td>48842.000000</td>\n",
       "      <td>48842.000000</td>\n",
       "      <td>48842.000000</td>\n",
       "      <td>48842.000000</td>\n",
       "    </tr>\n",
       "    <tr>\n",
       "      <th>mean</th>\n",
       "      <td>38.643585</td>\n",
       "      <td>1.896641e+05</td>\n",
       "      <td>10.078089</td>\n",
       "      <td>1079.067626</td>\n",
       "      <td>87.502314</td>\n",
       "      <td>40.422382</td>\n",
       "    </tr>\n",
       "    <tr>\n",
       "      <th>std</th>\n",
       "      <td>13.710510</td>\n",
       "      <td>1.056040e+05</td>\n",
       "      <td>2.570973</td>\n",
       "      <td>7452.019058</td>\n",
       "      <td>403.004552</td>\n",
       "      <td>12.391444</td>\n",
       "    </tr>\n",
       "    <tr>\n",
       "      <th>min</th>\n",
       "      <td>17.000000</td>\n",
       "      <td>1.228500e+04</td>\n",
       "      <td>1.000000</td>\n",
       "      <td>0.000000</td>\n",
       "      <td>0.000000</td>\n",
       "      <td>1.000000</td>\n",
       "    </tr>\n",
       "    <tr>\n",
       "      <th>25%</th>\n",
       "      <td>28.000000</td>\n",
       "      <td>1.175505e+05</td>\n",
       "      <td>9.000000</td>\n",
       "      <td>0.000000</td>\n",
       "      <td>0.000000</td>\n",
       "      <td>40.000000</td>\n",
       "    </tr>\n",
       "    <tr>\n",
       "      <th>50%</th>\n",
       "      <td>37.000000</td>\n",
       "      <td>1.781445e+05</td>\n",
       "      <td>10.000000</td>\n",
       "      <td>0.000000</td>\n",
       "      <td>0.000000</td>\n",
       "      <td>40.000000</td>\n",
       "    </tr>\n",
       "    <tr>\n",
       "      <th>75%</th>\n",
       "      <td>48.000000</td>\n",
       "      <td>2.376420e+05</td>\n",
       "      <td>12.000000</td>\n",
       "      <td>0.000000</td>\n",
       "      <td>0.000000</td>\n",
       "      <td>45.000000</td>\n",
       "    </tr>\n",
       "    <tr>\n",
       "      <th>max</th>\n",
       "      <td>90.000000</td>\n",
       "      <td>1.490400e+06</td>\n",
       "      <td>16.000000</td>\n",
       "      <td>99999.000000</td>\n",
       "      <td>4356.000000</td>\n",
       "      <td>99.000000</td>\n",
       "    </tr>\n",
       "  </tbody>\n",
       "</table>\n",
       "</div>"
      ],
      "text/plain": [
       "                age        fnlwgt  educational-num  capital-gain  \\\n",
       "count  48842.000000  4.884200e+04     48842.000000  48842.000000   \n",
       "mean      38.643585  1.896641e+05        10.078089   1079.067626   \n",
       "std       13.710510  1.056040e+05         2.570973   7452.019058   \n",
       "min       17.000000  1.228500e+04         1.000000      0.000000   \n",
       "25%       28.000000  1.175505e+05         9.000000      0.000000   \n",
       "50%       37.000000  1.781445e+05        10.000000      0.000000   \n",
       "75%       48.000000  2.376420e+05        12.000000      0.000000   \n",
       "max       90.000000  1.490400e+06        16.000000  99999.000000   \n",
       "\n",
       "       capital-loss  hours-per-week  \n",
       "count  48842.000000    48842.000000  \n",
       "mean      87.502314       40.422382  \n",
       "std      403.004552       12.391444  \n",
       "min        0.000000        1.000000  \n",
       "25%        0.000000       40.000000  \n",
       "50%        0.000000       40.000000  \n",
       "75%        0.000000       45.000000  \n",
       "max     4356.000000       99.000000  "
      ]
     },
     "execution_count": 5,
     "metadata": {},
     "output_type": "execute_result"
    }
   ],
   "source": [
    "income.describe()"
   ]
  },
  {
   "cell_type": "markdown",
   "metadata": {},
   "source": [
    "<h2>3. Data Wrangling</h2>\n",
    "<h3>3a. Find proportions of missing values in each category.</h3>"
   ]
  },
  {
   "cell_type": "code",
   "execution_count": 6,
   "metadata": {},
   "outputs": [
    {
     "data": {
      "text/plain": [
       "0"
      ]
     },
     "execution_count": 6,
     "metadata": {},
     "output_type": "execute_result"
    }
   ],
   "source": [
    "#Find null values\n",
    "income.isnull().sum().values.sum()"
   ]
  },
  {
   "cell_type": "markdown",
   "metadata": {},
   "source": [
    "<p>Examining the data, it seems question marks indicate missing values. Using .isnull() to check for missing values didn't turn up any, so I will count the number of values indicated by a question mark.</p>"
   ]
  },
  {
   "cell_type": "code",
   "execution_count": 7,
   "metadata": {},
   "outputs": [
    {
     "data": {
      "text/html": [
       "<div>\n",
       "<style scoped>\n",
       "    .dataframe tbody tr th:only-of-type {\n",
       "        vertical-align: middle;\n",
       "    }\n",
       "\n",
       "    .dataframe tbody tr th {\n",
       "        vertical-align: top;\n",
       "    }\n",
       "\n",
       "    .dataframe thead th {\n",
       "        text-align: right;\n",
       "    }\n",
       "</style>\n",
       "<table border=\"1\" class=\"dataframe\">\n",
       "  <thead>\n",
       "    <tr style=\"text-align: right;\">\n",
       "      <th></th>\n",
       "      <th>Count</th>\n",
       "      <th>%</th>\n",
       "    </tr>\n",
       "  </thead>\n",
       "  <tbody>\n",
       "    <tr>\n",
       "      <th>occupation</th>\n",
       "      <td>2809</td>\n",
       "      <td>5.751198</td>\n",
       "    </tr>\n",
       "    <tr>\n",
       "      <th>workclass</th>\n",
       "      <td>2799</td>\n",
       "      <td>5.730724</td>\n",
       "    </tr>\n",
       "    <tr>\n",
       "      <th>native-country</th>\n",
       "      <td>857</td>\n",
       "      <td>1.754637</td>\n",
       "    </tr>\n",
       "    <tr>\n",
       "      <th>age</th>\n",
       "      <td>0</td>\n",
       "      <td>0.000000</td>\n",
       "    </tr>\n",
       "    <tr>\n",
       "      <th>fnlwgt</th>\n",
       "      <td>0</td>\n",
       "      <td>0.000000</td>\n",
       "    </tr>\n",
       "    <tr>\n",
       "      <th>education</th>\n",
       "      <td>0</td>\n",
       "      <td>0.000000</td>\n",
       "    </tr>\n",
       "    <tr>\n",
       "      <th>educational-num</th>\n",
       "      <td>0</td>\n",
       "      <td>0.000000</td>\n",
       "    </tr>\n",
       "    <tr>\n",
       "      <th>marital-status</th>\n",
       "      <td>0</td>\n",
       "      <td>0.000000</td>\n",
       "    </tr>\n",
       "    <tr>\n",
       "      <th>relationship</th>\n",
       "      <td>0</td>\n",
       "      <td>0.000000</td>\n",
       "    </tr>\n",
       "    <tr>\n",
       "      <th>race</th>\n",
       "      <td>0</td>\n",
       "      <td>0.000000</td>\n",
       "    </tr>\n",
       "    <tr>\n",
       "      <th>gender</th>\n",
       "      <td>0</td>\n",
       "      <td>0.000000</td>\n",
       "    </tr>\n",
       "    <tr>\n",
       "      <th>capital-gain</th>\n",
       "      <td>0</td>\n",
       "      <td>0.000000</td>\n",
       "    </tr>\n",
       "    <tr>\n",
       "      <th>capital-loss</th>\n",
       "      <td>0</td>\n",
       "      <td>0.000000</td>\n",
       "    </tr>\n",
       "    <tr>\n",
       "      <th>hours-per-week</th>\n",
       "      <td>0</td>\n",
       "      <td>0.000000</td>\n",
       "    </tr>\n",
       "    <tr>\n",
       "      <th>income</th>\n",
       "      <td>0</td>\n",
       "      <td>0.000000</td>\n",
       "    </tr>\n",
       "  </tbody>\n",
       "</table>\n",
       "</div>"
      ],
      "text/plain": [
       "                 Count         %\n",
       "occupation        2809  5.751198\n",
       "workclass         2799  5.730724\n",
       "native-country     857  1.754637\n",
       "age                  0  0.000000\n",
       "fnlwgt               0  0.000000\n",
       "education            0  0.000000\n",
       "educational-num      0  0.000000\n",
       "marital-status       0  0.000000\n",
       "relationship         0  0.000000\n",
       "race                 0  0.000000\n",
       "gender               0  0.000000\n",
       "capital-gain         0  0.000000\n",
       "capital-loss         0  0.000000\n",
       "hours-per-week       0  0.000000\n",
       "income               0  0.000000"
      ]
     },
     "execution_count": 7,
     "metadata": {},
     "output_type": "execute_result"
    }
   ],
   "source": [
    "#Sum up the missing values (indicated by a '?') and find the proportion of each category\n",
    "#that consists of missing values.\n",
    "income_missing = pd.concat([(income=='?').sum(), 100 * (income=='?').mean()], axis=1)\n",
    "income_missing.columns=['Count', '%']\n",
    "income_missing.sort_values(by=['Count', '%'], ascending=False)"
   ]
  },
  {
   "cell_type": "markdown",
   "metadata": {},
   "source": [
    "<h3>3b. Count of entries in each category</h3>"
   ]
  },
  {
   "cell_type": "code",
   "execution_count": 8,
   "metadata": {},
   "outputs": [
    {
     "data": {
      "text/plain": [
       "Private             33906\n",
       "Self-emp-not-inc     3862\n",
       "Local-gov            3136\n",
       "?                    2799\n",
       "State-gov            1981\n",
       "Self-emp-inc         1695\n",
       "Federal-gov          1432\n",
       "Without-pay            21\n",
       "Never-worked           10\n",
       "Name: workclass, dtype: int64"
      ]
     },
     "execution_count": 8,
     "metadata": {},
     "output_type": "execute_result"
    }
   ],
   "source": [
    "income['workclass'].value_counts()"
   ]
  },
  {
   "cell_type": "markdown",
   "metadata": {},
   "source": [
    "The dominant value in the workclass category is the private sector."
   ]
  },
  {
   "cell_type": "code",
   "execution_count": 9,
   "metadata": {},
   "outputs": [
    {
     "data": {
      "text/plain": [
       "HS-grad         15784\n",
       "Some-college    10878\n",
       "Bachelors        8025\n",
       "Masters          2657\n",
       "Assoc-voc        2061\n",
       "11th             1812\n",
       "Assoc-acdm       1601\n",
       "10th             1389\n",
       "7th-8th           955\n",
       "Prof-school       834\n",
       "9th               756\n",
       "12th              657\n",
       "Doctorate         594\n",
       "5th-6th           509\n",
       "1st-4th           247\n",
       "Preschool          83\n",
       "Name: education, dtype: int64"
      ]
     },
     "execution_count": 9,
     "metadata": {},
     "output_type": "execute_result"
    }
   ],
   "source": [
    "income['education'].value_counts()"
   ]
  },
  {
   "cell_type": "markdown",
   "metadata": {},
   "source": [
    "Among education, most workers have a completed high school education, some college, or a bachelor's degree."
   ]
  },
  {
   "cell_type": "code",
   "execution_count": 10,
   "metadata": {},
   "outputs": [
    {
     "data": {
      "text/plain": [
       "Prof-specialty       6172\n",
       "Craft-repair         6112\n",
       "Exec-managerial      6086\n",
       "Adm-clerical         5611\n",
       "Sales                5504\n",
       "Other-service        4923\n",
       "Machine-op-inspct    3022\n",
       "?                    2809\n",
       "Transport-moving     2355\n",
       "Handlers-cleaners    2072\n",
       "Farming-fishing      1490\n",
       "Tech-support         1446\n",
       "Protective-serv       983\n",
       "Priv-house-serv       242\n",
       "Armed-Forces           15\n",
       "Name: occupation, dtype: int64"
      ]
     },
     "execution_count": 10,
     "metadata": {},
     "output_type": "execute_result"
    }
   ],
   "source": [
    "income['occupation'].value_counts()"
   ]
  },
  {
   "cell_type": "markdown",
   "metadata": {},
   "source": [
    "The occupation value counts are closer together, with specialty professions, craft-repair, and executive-managerial having the highest values."
   ]
  },
  {
   "cell_type": "code",
   "execution_count": 11,
   "metadata": {},
   "outputs": [
    {
     "data": {
      "text/plain": [
       "United-States                 43832\n",
       "Mexico                          951\n",
       "?                               857\n",
       "Philippines                     295\n",
       "Germany                         206\n",
       "Puerto-Rico                     184\n",
       "Canada                          182\n",
       "El-Salvador                     155\n",
       "India                           151\n",
       "Cuba                            138\n",
       "England                         127\n",
       "China                           122\n",
       "South                           115\n",
       "Jamaica                         106\n",
       "Italy                           105\n",
       "Dominican-Republic              103\n",
       "Japan                            92\n",
       "Guatemala                        88\n",
       "Poland                           87\n",
       "Vietnam                          86\n",
       "Columbia                         85\n",
       "Haiti                            75\n",
       "Portugal                         67\n",
       "Taiwan                           65\n",
       "Iran                             59\n",
       "Nicaragua                        49\n",
       "Greece                           49\n",
       "Peru                             46\n",
       "Ecuador                          45\n",
       "France                           38\n",
       "Ireland                          37\n",
       "Hong                             30\n",
       "Thailand                         30\n",
       "Cambodia                         28\n",
       "Trinadad&Tobago                  27\n",
       "Outlying-US(Guam-USVI-etc)       23\n",
       "Yugoslavia                       23\n",
       "Laos                             23\n",
       "Scotland                         21\n",
       "Honduras                         20\n",
       "Hungary                          19\n",
       "Holand-Netherlands                1\n",
       "Name: native-country, dtype: int64"
      ]
     },
     "execution_count": 11,
     "metadata": {},
     "output_type": "execute_result"
    }
   ],
   "source": [
    "income['native-country'].value_counts()"
   ]
  },
  {
   "cell_type": "markdown",
   "metadata": {},
   "source": [
    "The dominant nationality is the United States."
   ]
  },
  {
   "cell_type": "markdown",
   "metadata": {},
   "source": [
    "<h3>3c. Drop missing values</h3>\n",
    "<p>The missing values for the occupation, workclass, and native-country categories make up less than 6% of the 48,842 entries, so they will be dropped.</p>"
   ]
  },
  {
   "cell_type": "code",
   "execution_count": 12,
   "metadata": {},
   "outputs": [],
   "source": [
    "#Drop null values for occupation\n",
    "income.drop(index=income[income['occupation'] == '?'].index, inplace=True)"
   ]
  },
  {
   "cell_type": "code",
   "execution_count": 13,
   "metadata": {},
   "outputs": [],
   "source": [
    "#Drop null values for workclass\n",
    "income.drop(index=income[income['workclass'] == '?'].index, inplace=True)"
   ]
  },
  {
   "cell_type": "code",
   "execution_count": 14,
   "metadata": {},
   "outputs": [],
   "source": [
    "#Drop null values for native-country\n",
    "income.drop(index=income[income['native-country'] == '?'].index, inplace=True)"
   ]
  },
  {
   "cell_type": "markdown",
   "metadata": {},
   "source": [
    "<h3>3d. Correlation matrix</h3>"
   ]
  },
  {
   "cell_type": "code",
   "execution_count": 15,
   "metadata": {},
   "outputs": [
    {
     "data": {
      "text/plain": [
       "([<matplotlib.axis.YTick at 0x284630dccd0>,\n",
       "  <matplotlib.axis.YTick at 0x284630dc8b0>,\n",
       "  <matplotlib.axis.YTick at 0x284630ebf40>,\n",
       "  <matplotlib.axis.YTick at 0x28463032250>,\n",
       "  <matplotlib.axis.YTick at 0x2846302d370>,\n",
       "  <matplotlib.axis.YTick at 0x28463032400>],\n",
       " [Text(0, 0, 'age'),\n",
       "  Text(0, 1, 'fnlwgt'),\n",
       "  Text(0, 2, 'educational-num'),\n",
       "  Text(0, 3, 'capital-gain'),\n",
       "  Text(0, 4, 'capital-loss'),\n",
       "  Text(0, 5, 'hours-per-week')])"
      ]
     },
     "execution_count": 15,
     "metadata": {},
     "output_type": "execute_result"
    },
    {
     "data": {
      "image/png": "[encoded data removed]",
      "text/plain": [
       "<Figure size 288x288 with 2 Axes>"
      ]
     },
     "metadata": {
      "needs_background": "light"
     },
     "output_type": "display_data"
    }
   ],
   "source": [
    "#Use a correlation matrix to show the correlations between the continuous values and income.\n",
    "plt.matshow(income.corr())\n",
    "plt.colorbar()\n",
    "plt.xticks(np.arange(len(income.corr().columns)), income.corr().columns.values, rotation = 90) \n",
    "plt.yticks(np.arange(len(income.corr().columns)), income.corr().columns.values) "
   ]
  },
  {
   "cell_type": "markdown",
   "metadata": {},
   "source": [
    "The correlation matrix above shows very low linear correlations between the continuous features and income. The highest correlations are between hours-per-week and educational-num."
   ]
  },
  {
   "cell_type": "code",
   "execution_count": 16,
   "metadata": {},
   "outputs": [],
   "source": [
    "# Convert income column into numerical classes\n",
    "# Create a new column for income that shows '1' for incomes greater than $50K and '0' for incomes that are not\n",
    "\n",
    "income['Income_Above_or_Below_50K'] = income.apply(lambda row: 1 if '>50K' in row['income'] else 0, axis=1)"
   ]
  },
  {
   "cell_type": "markdown",
   "metadata": {},
   "source": [
    "The columns 'finalwgt', 'capital-gain', 'capital-loss', 'native-country', and 'income' are not useful for this analysis, so they will be dropped."
   ]
  },
  {
   "cell_type": "code",
   "execution_count": 17,
   "metadata": {},
   "outputs": [
    {
     "data": {
      "text/html": [
       "<div>\n",
       "<style scoped>\n",
       "    .dataframe tbody tr th:only-of-type {\n",
       "        vertical-align: middle;\n",
       "    }\n",
       "\n",
       "    .dataframe tbody tr th {\n",
       "        vertical-align: top;\n",
       "    }\n",
       "\n",
       "    .dataframe thead th {\n",
       "        text-align: right;\n",
       "    }\n",
       "</style>\n",
       "<table border=\"1\" class=\"dataframe\">\n",
       "  <thead>\n",
       "    <tr style=\"text-align: right;\">\n",
       "      <th></th>\n",
       "      <th>age</th>\n",
       "      <th>workclass</th>\n",
       "      <th>education</th>\n",
       "      <th>educational-num</th>\n",
       "      <th>marital-status</th>\n",
       "      <th>occupation</th>\n",
       "      <th>relationship</th>\n",
       "      <th>race</th>\n",
       "      <th>gender</th>\n",
       "      <th>hours-per-week</th>\n",
       "      <th>Income_Above_or_Below_50K</th>\n",
       "    </tr>\n",
       "  </thead>\n",
       "  <tbody>\n",
       "    <tr>\n",
       "      <th>0</th>\n",
       "      <td>25</td>\n",
       "      <td>Private</td>\n",
       "      <td>11th</td>\n",
       "      <td>7</td>\n",
       "      <td>Never-married</td>\n",
       "      <td>Machine-op-inspct</td>\n",
       "      <td>Own-child</td>\n",
       "      <td>Black</td>\n",
       "      <td>Male</td>\n",
       "      <td>40</td>\n",
       "      <td>0</td>\n",
       "    </tr>\n",
       "    <tr>\n",
       "      <th>1</th>\n",
       "      <td>38</td>\n",
       "      <td>Private</td>\n",
       "      <td>HS-grad</td>\n",
       "      <td>9</td>\n",
       "      <td>Married-civ-spouse</td>\n",
       "      <td>Farming-fishing</td>\n",
       "      <td>Husband</td>\n",
       "      <td>White</td>\n",
       "      <td>Male</td>\n",
       "      <td>50</td>\n",
       "      <td>0</td>\n",
       "    </tr>\n",
       "    <tr>\n",
       "      <th>2</th>\n",
       "      <td>28</td>\n",
       "      <td>Local-gov</td>\n",
       "      <td>Assoc-acdm</td>\n",
       "      <td>12</td>\n",
       "      <td>Married-civ-spouse</td>\n",
       "      <td>Protective-serv</td>\n",
       "      <td>Husband</td>\n",
       "      <td>White</td>\n",
       "      <td>Male</td>\n",
       "      <td>40</td>\n",
       "      <td>1</td>\n",
       "    </tr>\n",
       "    <tr>\n",
       "      <th>3</th>\n",
       "      <td>44</td>\n",
       "      <td>Private</td>\n",
       "      <td>Some-college</td>\n",
       "      <td>10</td>\n",
       "      <td>Married-civ-spouse</td>\n",
       "      <td>Machine-op-inspct</td>\n",
       "      <td>Husband</td>\n",
       "      <td>Black</td>\n",
       "      <td>Male</td>\n",
       "      <td>40</td>\n",
       "      <td>1</td>\n",
       "    </tr>\n",
       "    <tr>\n",
       "      <th>5</th>\n",
       "      <td>34</td>\n",
       "      <td>Private</td>\n",
       "      <td>10th</td>\n",
       "      <td>6</td>\n",
       "      <td>Never-married</td>\n",
       "      <td>Other-service</td>\n",
       "      <td>Not-in-family</td>\n",
       "      <td>White</td>\n",
       "      <td>Male</td>\n",
       "      <td>30</td>\n",
       "      <td>0</td>\n",
       "    </tr>\n",
       "  </tbody>\n",
       "</table>\n",
       "</div>"
      ],
      "text/plain": [
       "   age  workclass     education  educational-num      marital-status  \\\n",
       "0   25    Private          11th                7       Never-married   \n",
       "1   38    Private       HS-grad                9  Married-civ-spouse   \n",
       "2   28  Local-gov    Assoc-acdm               12  Married-civ-spouse   \n",
       "3   44    Private  Some-college               10  Married-civ-spouse   \n",
       "5   34    Private          10th                6       Never-married   \n",
       "\n",
       "          occupation   relationship   race gender  hours-per-week  \\\n",
       "0  Machine-op-inspct      Own-child  Black   Male              40   \n",
       "1    Farming-fishing        Husband  White   Male              50   \n",
       "2    Protective-serv        Husband  White   Male              40   \n",
       "3  Machine-op-inspct        Husband  Black   Male              40   \n",
       "5      Other-service  Not-in-family  White   Male              30   \n",
       "\n",
       "   Income_Above_or_Below_50K  \n",
       "0                          0  \n",
       "1                          0  \n",
       "2                          1  \n",
       "3                          1  \n",
       "5                          0  "
      ]
     },
     "execution_count": 17,
     "metadata": {},
     "output_type": "execute_result"
    }
   ],
   "source": [
    "# Remove unwanted columns\n",
    "income = income.drop(['fnlwgt', 'capital-gain', 'capital-loss', 'native-country', 'income'], axis=1)\n",
    "income.head()"
   ]
  },
  {
   "cell_type": "markdown",
   "metadata": {},
   "source": [
    "<h2>4. Data Visualization</h2>\n",
    "<h3>4.1 Comparing income by education level</h3>"
   ]
  },
  {
   "cell_type": "code",
   "execution_count": 18,
   "metadata": {},
   "outputs": [],
   "source": [
    "#Make a dictionary pairing the education level with its corresponding number\n",
    "edu_level = {}\n",
    "for x,y in income[['educational-num','education']].drop_duplicates().itertuples(index=False):\n",
    "    edu_level[y] = x"
   ]
  },
  {
   "cell_type": "code",
   "execution_count": 19,
   "metadata": {},
   "outputs": [
    {
     "data": {
      "text/plain": [
       "Text(0, 0.5, 'Proportion')"
      ]
     },
     "execution_count": 19,
     "metadata": {},
     "output_type": "execute_result"
    },
    {
     "data": {
      "image/png": "[encoded data removed]",
      "text/plain": [
       "<Figure size 864x720 with 1 Axes>"
      ]
     },
     "metadata": {
      "needs_background": "light"
     },
     "output_type": "display_data"
    }
   ],
   "source": [
    "education = round(pd.crosstab(income.education, income.Income_Above_or_Below_50K).div\\\n",
    "                  (pd.crosstab(income.education, income.Income_Above_or_Below_50K).apply(sum,1),0),2)\n",
    "education = education.reindex(sorted(edu_level, key=edu_level.get, reverse=False))\n",
    "\n",
    "ax = education.plot(kind ='bar', title = 'Proportion based on education', figsize = (12,10))\n",
    "ax.set_xlabel('Education')\n",
    "ax.set_ylabel('Proportion')"
   ]
  },
  {
   "cell_type": "markdown",
   "metadata": {},
   "source": [
    "As expected, the higher the education level, the greater the proportion of adults with incomes over 50K. From the master's level and up, adults making more than 50K outnumber adults making 50K or less. Let's check the proportion numbers to confirm."
   ]
  },
  {
   "cell_type": "code",
   "execution_count": 20,
   "metadata": {},
   "outputs": [
    {
     "name": "stdout",
     "output_type": "stream",
     "text": [
      "Income_Above_or_Below_50K     0     1\n",
      "education                            \n",
      "Preschool                  0.99  0.01\n",
      "1st-4th                    0.96  0.04\n",
      "5th-6th                    0.95  0.05\n",
      "7th-8th                    0.93  0.07\n",
      "9th                        0.94  0.06\n",
      "10th                       0.93  0.07\n",
      "11th                       0.95  0.05\n",
      "12th                       0.93  0.07\n",
      "HS-grad                    0.84  0.16\n",
      "Some-college               0.80  0.20\n",
      "Assoc-voc                  0.74  0.26\n",
      "Assoc-acdm                 0.74  0.26\n",
      "Bachelors                  0.58  0.42\n",
      "Masters                    0.45  0.55\n",
      "Prof-school                0.25  0.75\n",
      "Doctorate                  0.27  0.73\n"
     ]
    }
   ],
   "source": [
    "print(education)"
   ]
  },
  {
   "cell_type": "markdown",
   "metadata": {},
   "source": [
    "The education categories above bachelor's do have a majority earning over 50K."
   ]
  },
  {
   "cell_type": "markdown",
   "metadata": {},
   "source": [
    "<h3>4.2. Comparing Income by WorkClass</h3>"
   ]
  },
  {
   "cell_type": "code",
   "execution_count": 21,
   "metadata": {},
   "outputs": [
    {
     "data": {
      "text/plain": [
       "Text(0, 0.5, 'Proportion')"
      ]
     },
     "execution_count": 21,
     "metadata": {},
     "output_type": "execute_result"
    },
    {
     "data": {
      "image/png": "[encoded data removed]",
      "text/plain": [
       "<Figure size 864x720 with 1 Axes>"
      ]
     },
     "metadata": {
      "needs_background": "light"
     },
     "output_type": "display_data"
    }
   ],
   "source": [
    "workclass = round(pd.crosstab(income.workclass, income.Income_Above_or_Below_50K).div\\\n",
    "                  (pd.crosstab(income.workclass, income.Income_Above_or_Below_50K).apply(sum,1),0),2)\n",
    "workclass.sort_values(by = 1, inplace = True)\n",
    "\n",
    "ax = workclass.plot(kind ='bar', title = 'Proportion based on workclass', figsize = (12,10))\n",
    "ax.set_xlabel('WorkClass')\n",
    "ax.set_ylabel('Proportion')"
   ]
  },
  {
   "cell_type": "markdown",
   "metadata": {},
   "source": [
    "Among the adults with pay, those in the private class have the lowest proportion of incomes over 50K, while those self-employed in incorporated businesses have not only the greatest proportion of incomes over 50K, but adults making more than 50K outnumber those that are not."
   ]
  },
  {
   "cell_type": "code",
   "execution_count": 22,
   "metadata": {},
   "outputs": [
    {
     "name": "stdout",
     "output_type": "stream",
     "text": [
      "Income_Above_or_Below_50K     0     1\n",
      "workclass                            \n",
      "Without-pay                0.90  0.10\n",
      "Private                    0.78  0.22\n",
      "State-gov                  0.73  0.27\n",
      "Self-emp-not-inc           0.72  0.28\n",
      "Local-gov                  0.70  0.30\n",
      "Federal-gov                0.61  0.39\n",
      "Self-emp-inc               0.45  0.55\n"
     ]
    }
   ],
   "source": [
    "print(workclass)"
   ]
  },
  {
   "cell_type": "markdown",
   "metadata": {},
   "source": [
    "<h3>4.3. Comparing Income by Occupation</h3>"
   ]
  },
  {
   "cell_type": "code",
   "execution_count": 23,
   "metadata": {},
   "outputs": [
    {
     "data": {
      "text/plain": [
       "Text(0, 0.5, 'Proportion')"
      ]
     },
     "execution_count": 23,
     "metadata": {},
     "output_type": "execute_result"
    },
    {
     "data": {
      "image/png": "[encoded data removed]",
      "text/plain": [
       "<Figure size 864x720 with 1 Axes>"
      ]
     },
     "metadata": {
      "needs_background": "light"
     },
     "output_type": "display_data"
    }
   ],
   "source": [
    "occupation = round(pd.crosstab(income.occupation, income.Income_Above_or_Below_50K).div\\\n",
    "                  (pd.crosstab(income.occupation, income.Income_Above_or_Below_50K).apply(sum,1),0),2)\n",
    "occupation.sort_values(by = 1, inplace = True)\n",
    "\n",
    "ax = occupation.plot(kind ='bar', title = 'Proportion based on occupation', figsize = (12,10))\n",
    "ax.set_xlabel('Occupation')\n",
    "ax.set_ylabel('Proportion')"
   ]
  },
  {
   "cell_type": "markdown",
   "metadata": {},
   "source": [
    "All occupations have more adults with incomes $50K or less than adults with greater incomes. The difference is the smallest with executive managerial positions, followed closely by specialized professionals such as doctors and lawyers."
   ]
  },
  {
   "cell_type": "code",
   "execution_count": 24,
   "metadata": {},
   "outputs": [
    {
     "name": "stdout",
     "output_type": "stream",
     "text": [
      "Income_Above_or_Below_50K     0     1\n",
      "occupation                           \n",
      "Priv-house-serv            0.99  0.01\n",
      "Other-service              0.96  0.04\n",
      "Handlers-cleaners          0.93  0.07\n",
      "Farming-fishing            0.88  0.12\n",
      "Machine-op-inspct          0.88  0.12\n",
      "Adm-clerical               0.86  0.14\n",
      "Transport-moving           0.79  0.21\n",
      "Craft-repair               0.77  0.23\n",
      "Sales                      0.73  0.27\n",
      "Armed-Forces               0.71  0.29\n",
      "Tech-support               0.71  0.29\n",
      "Protective-serv            0.69  0.31\n",
      "Prof-specialty             0.55  0.45\n",
      "Exec-managerial            0.52  0.48\n"
     ]
    }
   ],
   "source": [
    "print(occupation)"
   ]
  },
  {
   "cell_type": "markdown",
   "metadata": {},
   "source": [
    "<h3>4.4. Comparing Income by Marital Status</h3>"
   ]
  },
  {
   "cell_type": "code",
   "execution_count": 25,
   "metadata": {},
   "outputs": [
    {
     "data": {
      "text/plain": [
       "Text(0, 0.5, 'Proportion')"
      ]
     },
     "execution_count": 25,
     "metadata": {},
     "output_type": "execute_result"
    },
    {
     "data": {
      "image/png": "[encoded data removed]",
      "text/plain": [
       "<Figure size 864x720 with 1 Axes>"
      ]
     },
     "metadata": {
      "needs_background": "light"
     },
     "output_type": "display_data"
    }
   ],
   "source": [
    "marital = round(pd.crosstab(income['marital-status'], income.Income_Above_or_Below_50K).div\\\n",
    "                  (pd.crosstab(income['marital-status'], income.Income_Above_or_Below_50K).apply(sum,1),0),2)\n",
    "marital.sort_values(by = 1, inplace = True)\n",
    "\n",
    "ax = marital.plot(kind ='bar', title = 'Proportion based on marital status', figsize = (12,10))\n",
    "ax.set_xlabel('Marital Status')\n",
    "ax.set_ylabel('Proportion')"
   ]
  },
  {
   "cell_type": "markdown",
   "metadata": {},
   "source": [
    "All categories have more adults with incomes of 50K or less than adults with incomes over 50K, but the gap is much smaller with married couples that have a spouse present."
   ]
  },
  {
   "cell_type": "code",
   "execution_count": 26,
   "metadata": {},
   "outputs": [
    {
     "name": "stdout",
     "output_type": "stream",
     "text": [
      "Income_Above_or_Below_50K     0     1\n",
      "marital-status                       \n",
      "Never-married              0.95  0.05\n",
      "Separated                  0.93  0.07\n",
      "Widowed                    0.91  0.09\n",
      "Divorced                   0.90  0.10\n",
      "Married-spouse-absent      0.90  0.10\n",
      "Married-AF-spouse          0.56  0.44\n",
      "Married-civ-spouse         0.55  0.45\n"
     ]
    }
   ],
   "source": [
    "print(marital)"
   ]
  },
  {
   "cell_type": "markdown",
   "metadata": {},
   "source": [
    "<h3>4.5. Comparing Income by Race</h3>"
   ]
  },
  {
   "cell_type": "code",
   "execution_count": 27,
   "metadata": {},
   "outputs": [
    {
     "data": {
      "text/plain": [
       "Text(0, 0.5, 'Proportion')"
      ]
     },
     "execution_count": 27,
     "metadata": {},
     "output_type": "execute_result"
    },
    {
     "data": {
      "image/png": "[encoded data removed]",
      "text/plain": [
       "<Figure size 864x720 with 1 Axes>"
      ]
     },
     "metadata": {
      "needs_background": "light"
     },
     "output_type": "display_data"
    }
   ],
   "source": [
    "race = round(pd.crosstab(income.race, income.Income_Above_or_Below_50K).div\\\n",
    "                  (pd.crosstab(income.race, income.Income_Above_or_Below_50K).apply(sum,1),0),2)\n",
    "race.sort_values(by = 1, inplace = True)\n",
    "\n",
    "ax = race.plot(kind ='bar', title = 'Proportion based on race', figsize = (12,10))\n",
    "ax.set_xlabel('Race')\n",
    "ax.set_ylabel('Proportion')"
   ]
  },
  {
   "cell_type": "markdown",
   "metadata": {},
   "source": [
    "Whites and Asians have higher proportions of adults with incomes over 50K."
   ]
  },
  {
   "cell_type": "code",
   "execution_count": 28,
   "metadata": {},
   "outputs": [
    {
     "name": "stdout",
     "output_type": "stream",
     "text": [
      "Income_Above_or_Below_50K     0     1\n",
      "race                                 \n",
      "Amer-Indian-Eskimo         0.88  0.12\n",
      "Black                      0.87  0.13\n",
      "Other                      0.87  0.13\n",
      "White                      0.74  0.26\n",
      "Asian-Pac-Islander         0.72  0.28\n"
     ]
    }
   ],
   "source": [
    "print(race)"
   ]
  },
  {
   "cell_type": "markdown",
   "metadata": {},
   "source": [
    "<h3>4.6 Comparing Income by Gender</h3>"
   ]
  },
  {
   "cell_type": "code",
   "execution_count": 29,
   "metadata": {},
   "outputs": [
    {
     "data": {
      "text/plain": [
       "Text(0, 0.5, 'Proportion')"
      ]
     },
     "execution_count": 29,
     "metadata": {},
     "output_type": "execute_result"
    },
    {
     "data": {
      "image/png": "[encoded data removed]",
      "text/plain": [
       "<Figure size 864x720 with 1 Axes>"
      ]
     },
     "metadata": {
      "needs_background": "light"
     },
     "output_type": "display_data"
    }
   ],
   "source": [
    "gender = round(pd.crosstab(income.gender, income.Income_Above_or_Below_50K).div\\\n",
    "                  (pd.crosstab(income.gender, income.Income_Above_or_Below_50K).apply(sum,1),0),2)\n",
    "gender.sort_values(by = 1, inplace = True)\n",
    "\n",
    "ax = gender.plot(kind ='bar', title = 'Proportion based on gender', figsize = (12,10))\n",
    "ax.set_xlabel('Gender')\n",
    "ax.set_ylabel('Proportion')"
   ]
  },
  {
   "cell_type": "markdown",
   "metadata": {},
   "source": [
    "Men have a higher proportion of incomes over 50K."
   ]
  },
  {
   "cell_type": "code",
   "execution_count": 30,
   "metadata": {},
   "outputs": [
    {
     "name": "stdout",
     "output_type": "stream",
     "text": [
      "Income_Above_or_Below_50K     0     1\n",
      "gender                               \n",
      "Female                     0.89  0.11\n",
      "Male                       0.69  0.31\n"
     ]
    }
   ],
   "source": [
    "print(gender)"
   ]
  },
  {
   "cell_type": "markdown",
   "metadata": {},
   "source": [
    "<h3>4.7 Comparing Income by Hours Per Week</h3>"
   ]
  },
  {
   "cell_type": "code",
   "execution_count": 31,
   "metadata": {},
   "outputs": [
    {
     "data": {
      "text/plain": [
       "Text(0, 0.5, 'Proportion')"
      ]
     },
     "execution_count": 31,
     "metadata": {},
     "output_type": "execute_result"
    },
    {
     "data": {
      "image/png": "[encoded data removed]",
      "text/plain": [
       "<Figure size 1440x720 with 1 Axes>"
      ]
     },
     "metadata": {
      "needs_background": "light"
     },
     "output_type": "display_data"
    }
   ],
   "source": [
    "hours_per_week = round(pd.crosstab(income['hours-per-week'], income.Income_Above_or_Below_50K).div\\\n",
    "                  (pd.crosstab(income['hours-per-week'], income.Income_Above_or_Below_50K).apply(sum,1),0),2)\n",
    "\n",
    "ax = hours_per_week.plot(kind ='bar', title = 'Proportion based on hours per week', figsize = (20,10))\n",
    "ax.set_xlabel('Hours per week')\n",
    "ax.set_ylabel('Proportion')"
   ]
  },
  {
   "cell_type": "markdown",
   "metadata": {},
   "source": [
    "The lowest number of hours worked in which incomes over 50K outnumber incomes of 50K and under is 61. However, more hours worked does not necessarily mean more incomes over 50K than incomes 50K and under. In fact, there are no incomes over 50K at 77, 79, 81, 82, 87, 88, 91, and 94 hours."
   ]
  },
  {
   "cell_type": "markdown",
   "metadata": {},
   "source": [
    "<h2>5. Data Preprocessing</h2>\n",
    "<h3>5.1 One-Hot Encoding</h3>\n",
    "<p>In one-hot encoding, columns with different categories are represented as binary features for each category. Here, one-hot encoding will be used on the categorical features.</p>"
   ]
  },
  {
   "cell_type": "code",
   "execution_count": 32,
   "metadata": {},
   "outputs": [],
   "source": [
    "#Unnamed: educational-num is not useful for this analysis, so it will be dropped.\n",
    "income = income.drop(['educational-num'],axis=1)"
   ]
  },
  {
   "cell_type": "code",
   "execution_count": 33,
   "metadata": {},
   "outputs": [],
   "source": [
    "#Use one-hot encoding on columns with different categories.\n",
    "one_hot_labels = income[['workclass', 'education', 'marital-status', 'occupation',\\\n",
    "                         'relationship', 'race', 'gender']]\n",
    "one_hot_data = pd.get_dummies(one_hot_labels)\n",
    "\n",
    "income_one_hot = pd.concat([income,one_hot_data],axis=1).drop\\\n",
    "(['workclass','education', 'marital-status','occupation','relationship','race','gender'],axis=1)"
   ]
  },
  {
   "cell_type": "markdown",
   "metadata": {},
   "source": [
    "<h3>5.2 Scaling</h3>"
   ]
  },
  {
   "cell_type": "code",
   "execution_count": 34,
   "metadata": {},
   "outputs": [],
   "source": [
    "#Split data into X and y variables and scale X\n",
    "X = income_one_hot.drop(['Income_Above_or_Below_50K'],axis=1)\n",
    "#use .ravel() to pass a 1d array instead of column vector\n",
    "y = income_one_hot['Income_Above_or_Below_50K'].ravel()\n",
    "\n",
    "X_scaled = scale(X)"
   ]
  },
  {
   "cell_type": "code",
   "execution_count": 35,
   "metadata": {},
   "outputs": [],
   "source": [
    "#Split data into train and test sets\n",
    "X_train_lr,X_test_lr,y_train_lr,y_test_lr = train_test_split(X_scaled,y,random_state=42)"
   ]
  },
  {
   "cell_type": "markdown",
   "metadata": {},
   "source": [
    "<h2>6. Modeling</h2>\n",
    "<h3>6.1 Logistic Regression</h3>\n",
    "<p>When trying different models, I first decided on logistic regression, since the dependent variable is binary (less than 50k or not). I tuned the parameters of the model using K-fold cross-validation and grid search, including tuning the regularization parameter C.</p>"
   ]
  },
  {
   "cell_type": "code",
   "execution_count": 36,
   "metadata": {},
   "outputs": [
    {
     "data": {
      "text/plain": [
       "GridSearchCV(cv=5, estimator=LogisticRegression(),\n",
       "             param_grid={'C': [0.001, 0.1, 1, 10, 100]}, scoring='accuracy')"
      ]
     },
     "execution_count": 36,
     "metadata": {},
     "output_type": "execute_result"
    }
   ],
   "source": [
    "from sklearn.model_selection import GridSearchCV\n",
    "\n",
    "clf=LogisticRegression()\n",
    "param_grid = {'C': [0.001, 0.1, 1, 10, 100]}\n",
    "\n",
    "logreg_clf = GridSearchCV(clf, param_grid, cv=5, scoring='accuracy')\n",
    "logreg_clf.fit(X_train_lr, y_train_lr)"
   ]
  },
  {
   "cell_type": "code",
   "execution_count": 37,
   "metadata": {},
   "outputs": [
    {
     "data": {
      "text/plain": [
       "0.8339819564832832"
      ]
     },
     "execution_count": 37,
     "metadata": {},
     "output_type": "execute_result"
    }
   ],
   "source": [
    "clf=LogisticRegression(C=logreg_clf.best_params_['C'])\n",
    "clf.fit(X_train_lr, y_train_lr)\n",
    "ypred_lr=clf.predict(X_test_lr)\n",
    "accuracy_score(ypred_lr, y_test_lr)"
   ]
  },
  {
   "cell_type": "markdown",
   "metadata": {},
   "source": [
    "<h3>6.2 Decision Tree (Entropy)</h3>\n",
    "<p>I used a decision tree entropy model to minimize the entropy, the uncertainty about which category the data points fall into at a given point, and maximize the information gain, the difference between entropy before and after splitting a particular feature.</p>"
   ]
  },
  {
   "cell_type": "code",
   "execution_count": 38,
   "metadata": {},
   "outputs": [],
   "source": [
    "X_train_dt, X_test_dt, y_train_dt, y_test_dt = train_test_split(X, y, test_size = 0.25, random_state = 246)"
   ]
  },
  {
   "cell_type": "code",
   "execution_count": 39,
   "metadata": {},
   "outputs": [],
   "source": [
    "entr_model = tree.DecisionTreeClassifier(criterion=\"entropy\", random_state = 1234)\n",
    "entr_model.fit(X_train_dt, y_train_dt)\n",
    "y_pred_dt_e = entr_model.predict(X_test_dt)\n",
    "y_pred_dt_e = pd.Series(y_pred_dt_e)"
   ]
  },
  {
   "cell_type": "code",
   "execution_count": 40,
   "metadata": {},
   "outputs": [
    {
     "name": "stdout",
     "output_type": "stream",
     "text": [
      "Model Entropy model no max depth\n",
      "Accuracy: 0.7891\n",
      "Balanced accuracy: 0.7057\n",
      "Precision: 0.5813\n",
      "Recall: 0.5399\n",
      "F-measure: 0.5598\n"
     ]
    }
   ],
   "source": [
    "print(\"Model Entropy model no max depth\")\n",
    "print(\"Accuracy:\", round(metrics.accuracy_score(y_test_dt,y_pred_dt_e),4))\n",
    "print(\"Balanced accuracy:\", round(metrics.balanced_accuracy_score(y_test_dt,y_pred_dt_e),4))\n",
    "print('Precision:' , round(metrics.precision_score(y_test_dt,y_pred_dt_e),4))\n",
    "print('Recall:' , round(metrics.recall_score(y_test_dt,y_pred_dt_e),4))\n",
    "print('F-measure:' , round(metrics.f1_score(y_test_dt,y_pred_dt_e),4))"
   ]
  },
  {
   "cell_type": "markdown",
   "metadata": {},
   "source": [
    "<h3>6.3 Decision Tree (Gini)</h3>\n",
    "<p>I used a decision tree gini model to measure how well a given feature splits the data into categories.</p>"
   ]
  },
  {
   "cell_type": "code",
   "execution_count": 41,
   "metadata": {},
   "outputs": [],
   "source": [
    "gini_model = tree.DecisionTreeClassifier(criterion=\"gini\", random_state = 1234)\n",
    "gini_model.fit(X_train_dt, y_train_dt)\n",
    "y_pred_dt_g = gini_model.predict(X_test_dt)\n",
    "y_pred_dt_g = pd.Series(y_pred_dt_g)"
   ]
  },
  {
   "cell_type": "code",
   "execution_count": 42,
   "metadata": {},
   "outputs": [
    {
     "name": "stdout",
     "output_type": "stream",
     "text": [
      "Model Gini impurity model\n",
      "Accuracy: 0.7869\n",
      "Balanced accuracy: 0.7045\n",
      "Precision: 0.5757\n",
      "Recall: 0.5406\n",
      "F-measure: 0.5576\n"
     ]
    }
   ],
   "source": [
    "print(\"Model Gini impurity model\")\n",
    "print(\"Accuracy:\", round(metrics.accuracy_score(y_test_dt,y_pred_dt_g),4))\n",
    "print(\"Balanced accuracy:\", round(metrics.balanced_accuracy_score(y_test_dt,y_pred_dt_g),4))\n",
    "print('Precision:', round(metrics.precision_score(y_test_dt,y_pred_dt_g),4))\n",
    "print('Recall:', round(metrics.recall_score(y_test_dt,y_pred_dt_g),4))\n",
    "print('F-measure:' , round(metrics.f1_score(y_test_dt,y_pred_dt_g),4))"
   ]
  },
  {
   "cell_type": "markdown",
   "metadata": {},
   "source": [
    "<h3>6.4 Random Forest (Entropy)</h3>\n",
    "<p>To account for variability in decision trees and to attempt to get the most accurate prediction with limited over-fitting, I tried the Random Forest model to get the average of the outputs of the decision trees. I set up a Random Forest model with the entropy criterion.</p>"
   ]
  },
  {
   "cell_type": "code",
   "execution_count": 43,
   "metadata": {},
   "outputs": [],
   "source": [
    "RF = RandomForestClassifier(random_state = 1234, criterion = 'entropy')\n",
    "RF.fit(X_train_dt, y_train_dt)\n",
    "y_pred_rfe = RF.predict(X_test_dt)\n",
    "y_pred_rfe = pd.Series(y_pred_rfe)"
   ]
  },
  {
   "cell_type": "code",
   "execution_count": 44,
   "metadata": {},
   "outputs": [
    {
     "name": "stdout",
     "output_type": "stream",
     "text": [
      "Random Forest Entropy model\n",
      "Accuracy: 0.8162\n",
      "Balanced accuracy: 0.7314\n",
      "Precision: 0.6501\n",
      "Recall: 0.563\n",
      "F-measure: 0.6034\n"
     ]
    }
   ],
   "source": [
    "print(\"Random Forest Entropy model\")\n",
    "print(\"Accuracy:\", round(metrics.accuracy_score(y_test_dt,y_pred_rfe),4))\n",
    "print(\"Balanced accuracy:\", round(metrics.balanced_accuracy_score(y_test_dt,y_pred_rfe),4))\n",
    "print('Precision:' , round(metrics.precision_score(y_test_dt,y_pred_rfe),4))\n",
    "print('Recall:' , round(metrics.recall_score(y_test_dt,y_pred_rfe),4))\n",
    "print('F-measure:' , round(metrics.f1_score(y_test_dt,y_pred_rfe),4))"
   ]
  },
  {
   "cell_type": "markdown",
   "metadata": {},
   "source": [
    "<h3>6.5 Random Forest (Gini)</h3>\n",
    "<p>I also tried a Random Forest model with the gini criterion.</p>"
   ]
  },
  {
   "cell_type": "code",
   "execution_count": 45,
   "metadata": {},
   "outputs": [],
   "source": [
    "RF = RandomForestClassifier(random_state = 1234, criterion = 'gini')\n",
    "RF.fit(X_train_dt, y_train_dt)\n",
    "y_pred_rfg = RF.predict(X_test_dt)\n",
    "y_pred_rfg = pd.Series(y_pred_rfg)"
   ]
  },
  {
   "cell_type": "code",
   "execution_count": 46,
   "metadata": {},
   "outputs": [
    {
     "name": "stdout",
     "output_type": "stream",
     "text": [
      "Random Forest Gini model\n",
      "Accuracy: 0.8143\n",
      "Balanced accuracy: 0.7277\n",
      "Precision: 0.647\n",
      "Recall: 0.5556\n",
      "F-measure: 0.5978\n"
     ]
    }
   ],
   "source": [
    "print(\"Random Forest Gini model\")\n",
    "print(\"Accuracy:\", round(metrics.accuracy_score(y_test_dt,y_pred_rfg),4))\n",
    "print(\"Balanced accuracy:\", round(metrics.balanced_accuracy_score(y_test_dt,y_pred_rfg),4))\n",
    "print('Precision:' , round(metrics.precision_score(y_test_dt,y_pred_rfg),4))\n",
    "print('Recall:' , round(metrics.recall_score(y_test_dt,y_pred_rfg),4))\n",
    "print('F-measure:' , round(metrics.f1_score(y_test_dt,y_pred_rfg),4))"
   ]
  },
  {
   "cell_type": "markdown",
   "metadata": {},
   "source": [
    "The random forest entropy model has the highest precision (65%), recall (56.3%), and F-score (60.34%). The logistic regression model has the highest accuracy at 83.39%."
   ]
  },
  {
   "cell_type": "markdown",
   "metadata": {},
   "source": [
    "<h2>7. Best Features</h2>"
   ]
  },
  {
   "cell_type": "code",
   "execution_count": 47,
   "metadata": {},
   "outputs": [
    {
     "data": {
      "text/html": [
       "<div>\n",
       "<style scoped>\n",
       "    .dataframe tbody tr th:only-of-type {\n",
       "        vertical-align: middle;\n",
       "    }\n",
       "\n",
       "    .dataframe tbody tr th {\n",
       "        vertical-align: top;\n",
       "    }\n",
       "\n",
       "    .dataframe thead th {\n",
       "        text-align: right;\n",
       "    }\n",
       "</style>\n",
       "<table border=\"1\" class=\"dataframe\">\n",
       "  <thead>\n",
       "    <tr style=\"text-align: right;\">\n",
       "      <th></th>\n",
       "      <th>Income_Above_or_Below_50K</th>\n",
       "    </tr>\n",
       "  </thead>\n",
       "  <tbody>\n",
       "    <tr>\n",
       "      <th>Income_Above_or_Below_50K</th>\n",
       "      <td>1.000000</td>\n",
       "    </tr>\n",
       "    <tr>\n",
       "      <th>marital-status_Married-civ-spouse</th>\n",
       "      <td>0.446192</td>\n",
       "    </tr>\n",
       "    <tr>\n",
       "      <th>relationship_Husband</th>\n",
       "      <td>0.403706</td>\n",
       "    </tr>\n",
       "    <tr>\n",
       "      <th>marital-status_Never-married</th>\n",
       "      <td>0.319536</td>\n",
       "    </tr>\n",
       "    <tr>\n",
       "      <th>age</th>\n",
       "      <td>0.237040</td>\n",
       "    </tr>\n",
       "    <tr>\n",
       "      <th>hours-per-week</th>\n",
       "      <td>0.227199</td>\n",
       "    </tr>\n",
       "    <tr>\n",
       "      <th>relationship_Own-child</th>\n",
       "      <td>0.222635</td>\n",
       "    </tr>\n",
       "    <tr>\n",
       "      <th>gender_Female</th>\n",
       "      <td>0.215760</td>\n",
       "    </tr>\n",
       "    <tr>\n",
       "      <th>occupation_Exec-managerial</th>\n",
       "      <td>0.209176</td>\n",
       "    </tr>\n",
       "    <tr>\n",
       "      <th>relationship_Not-in-family</th>\n",
       "      <td>0.195561</td>\n",
       "    </tr>\n",
       "    <tr>\n",
       "      <th>occupation_Prof-specialty</th>\n",
       "      <td>0.183329</td>\n",
       "    </tr>\n",
       "    <tr>\n",
       "      <th>education_Bachelors</th>\n",
       "      <td>0.178594</td>\n",
       "    </tr>\n",
       "    <tr>\n",
       "      <th>education_Masters</th>\n",
       "      <td>0.172094</td>\n",
       "    </tr>\n",
       "    <tr>\n",
       "      <th>occupation_Other-service</th>\n",
       "      <td>0.165428</td>\n",
       "    </tr>\n",
       "    <tr>\n",
       "      <th>education_Prof-school</th>\n",
       "      <td>0.155856</td>\n",
       "    </tr>\n",
       "    <tr>\n",
       "      <th>relationship_Unmarried</th>\n",
       "      <td>0.147262</td>\n",
       "    </tr>\n",
       "    <tr>\n",
       "      <th>workclass_Self-emp-inc</th>\n",
       "      <td>0.137845</td>\n",
       "    </tr>\n",
       "    <tr>\n",
       "      <th>education_HS-grad</th>\n",
       "      <td>0.136249</td>\n",
       "    </tr>\n",
       "    <tr>\n",
       "      <th>marital-status_Divorced</th>\n",
       "      <td>0.133982</td>\n",
       "    </tr>\n",
       "    <tr>\n",
       "      <th>education_Doctorate</th>\n",
       "      <td>0.124108</td>\n",
       "    </tr>\n",
       "    <tr>\n",
       "      <th>relationship_Wife</th>\n",
       "      <td>0.121396</td>\n",
       "    </tr>\n",
       "    <tr>\n",
       "      <th>workclass_Private</th>\n",
       "      <td>0.116721</td>\n",
       "    </tr>\n",
       "    <tr>\n",
       "      <th>occupation_Adm-clerical</th>\n",
       "      <td>0.096389</td>\n",
       "    </tr>\n",
       "    <tr>\n",
       "      <th>occupation_Handlers-cleaners</th>\n",
       "      <td>0.091692</td>\n",
       "    </tr>\n",
       "    <tr>\n",
       "      <th>race_Black</th>\n",
       "      <td>0.090405</td>\n",
       "    </tr>\n",
       "    <tr>\n",
       "      <th>education_11th</th>\n",
       "      <td>0.086078</td>\n",
       "    </tr>\n",
       "    <tr>\n",
       "      <th>relationship_Other-relative</th>\n",
       "      <td>0.085604</td>\n",
       "    </tr>\n",
       "    <tr>\n",
       "      <th>race_White</th>\n",
       "      <td>0.083481</td>\n",
       "    </tr>\n",
       "    <tr>\n",
       "      <th>occupation_Machine-op-inspct</th>\n",
       "      <td>0.076726</td>\n",
       "    </tr>\n",
       "    <tr>\n",
       "      <th>marital-status_Separated</th>\n",
       "      <td>0.073853</td>\n",
       "    </tr>\n",
       "    <tr>\n",
       "      <th>education_10th</th>\n",
       "      <td>0.069813</td>\n",
       "    </tr>\n",
       "    <tr>\n",
       "      <th>marital-status_Widowed</th>\n",
       "      <td>0.060443</td>\n",
       "    </tr>\n",
       "    <tr>\n",
       "      <th>workclass_Federal-gov</th>\n",
       "      <td>0.059174</td>\n",
       "    </tr>\n",
       "    <tr>\n",
       "      <th>education_Some-college</th>\n",
       "      <td>0.057398</td>\n",
       "    </tr>\n",
       "    <tr>\n",
       "      <th>education_7th-8th</th>\n",
       "      <td>0.057080</td>\n",
       "    </tr>\n",
       "    <tr>\n",
       "      <th>occupation_Farming-fishing</th>\n",
       "      <td>0.056077</td>\n",
       "    </tr>\n",
       "    <tr>\n",
       "      <th>education_9th</th>\n",
       "      <td>0.054675</td>\n",
       "    </tr>\n",
       "    <tr>\n",
       "      <th>education_5th-6th</th>\n",
       "      <td>0.046120</td>\n",
       "    </tr>\n",
       "    <tr>\n",
       "      <th>education_12th</th>\n",
       "      <td>0.045636</td>\n",
       "    </tr>\n",
       "    <tr>\n",
       "      <th>occupation_Priv-house-serv</th>\n",
       "      <td>0.039071</td>\n",
       "    </tr>\n",
       "    <tr>\n",
       "      <th>marital-status_Married-spouse-absent</th>\n",
       "      <td>0.038624</td>\n",
       "    </tr>\n",
       "    <tr>\n",
       "      <th>education_1st-4th</th>\n",
       "      <td>0.034456</td>\n",
       "    </tr>\n",
       "    <tr>\n",
       "      <th>workclass_Local-gov</th>\n",
       "      <td>0.029731</td>\n",
       "    </tr>\n",
       "    <tr>\n",
       "      <th>race_Amer-Indian-Eskimo</th>\n",
       "      <td>0.028762</td>\n",
       "    </tr>\n",
       "    <tr>\n",
       "      <th>race_Other</th>\n",
       "      <td>0.024727</td>\n",
       "    </tr>\n",
       "    <tr>\n",
       "      <th>occupation_Protective-serv</th>\n",
       "      <td>0.022946</td>\n",
       "    </tr>\n",
       "    <tr>\n",
       "      <th>occupation_Transport-moving</th>\n",
       "      <td>0.022306</td>\n",
       "    </tr>\n",
       "    <tr>\n",
       "      <th>workclass_Self-emp-not-inc</th>\n",
       "      <td>0.021828</td>\n",
       "    </tr>\n",
       "    <tr>\n",
       "      <th>education_Preschool</th>\n",
       "      <td>0.021638</td>\n",
       "    </tr>\n",
       "    <tr>\n",
       "      <th>occupation_Craft-repair</th>\n",
       "      <td>0.020658</td>\n",
       "    </tr>\n",
       "    <tr>\n",
       "      <th>occupation_Sales</th>\n",
       "      <td>0.018098</td>\n",
       "    </tr>\n",
       "    <tr>\n",
       "      <th>occupation_Tech-support</th>\n",
       "      <td>0.017345</td>\n",
       "    </tr>\n",
       "    <tr>\n",
       "      <th>race_Asian-Pac-Islander</th>\n",
       "      <td>0.014102</td>\n",
       "    </tr>\n",
       "    <tr>\n",
       "      <th>marital-status_Married-AF-spouse</th>\n",
       "      <td>0.011689</td>\n",
       "    </tr>\n",
       "    <tr>\n",
       "      <th>workclass_State-gov</th>\n",
       "      <td>0.009514</td>\n",
       "    </tr>\n",
       "    <tr>\n",
       "      <th>workclass_Without-pay</th>\n",
       "      <td>0.007618</td>\n",
       "    </tr>\n",
       "    <tr>\n",
       "      <th>education_Assoc-acdm</th>\n",
       "      <td>0.006991</td>\n",
       "    </tr>\n",
       "    <tr>\n",
       "      <th>education_Assoc-voc</th>\n",
       "      <td>0.004648</td>\n",
       "    </tr>\n",
       "    <tr>\n",
       "      <th>occupation_Armed-Forces</th>\n",
       "      <td>0.001544</td>\n",
       "    </tr>\n",
       "  </tbody>\n",
       "</table>\n",
       "</div>"
      ],
      "text/plain": [
       "                                      Income_Above_or_Below_50K\n",
       "Income_Above_or_Below_50K                              1.000000\n",
       "marital-status_Married-civ-spouse                      0.446192\n",
       "relationship_Husband                                   0.403706\n",
       "marital-status_Never-married                           0.319536\n",
       "age                                                    0.237040\n",
       "hours-per-week                                         0.227199\n",
       "relationship_Own-child                                 0.222635\n",
       "gender_Female                                          0.215760\n",
       "occupation_Exec-managerial                             0.209176\n",
       "relationship_Not-in-family                             0.195561\n",
       "occupation_Prof-specialty                              0.183329\n",
       "education_Bachelors                                    0.178594\n",
       "education_Masters                                      0.172094\n",
       "occupation_Other-service                               0.165428\n",
       "education_Prof-school                                  0.155856\n",
       "relationship_Unmarried                                 0.147262\n",
       "workclass_Self-emp-inc                                 0.137845\n",
       "education_HS-grad                                      0.136249\n",
       "marital-status_Divorced                                0.133982\n",
       "education_Doctorate                                    0.124108\n",
       "relationship_Wife                                      0.121396\n",
       "workclass_Private                                      0.116721\n",
       "occupation_Adm-clerical                                0.096389\n",
       "occupation_Handlers-cleaners                           0.091692\n",
       "race_Black                                             0.090405\n",
       "education_11th                                         0.086078\n",
       "relationship_Other-relative                            0.085604\n",
       "race_White                                             0.083481\n",
       "occupation_Machine-op-inspct                           0.076726\n",
       "marital-status_Separated                               0.073853\n",
       "education_10th                                         0.069813\n",
       "marital-status_Widowed                                 0.060443\n",
       "workclass_Federal-gov                                  0.059174\n",
       "education_Some-college                                 0.057398\n",
       "education_7th-8th                                      0.057080\n",
       "occupation_Farming-fishing                             0.056077\n",
       "education_9th                                          0.054675\n",
       "education_5th-6th                                      0.046120\n",
       "education_12th                                         0.045636\n",
       "occupation_Priv-house-serv                             0.039071\n",
       "marital-status_Married-spouse-absent                   0.038624\n",
       "education_1st-4th                                      0.034456\n",
       "workclass_Local-gov                                    0.029731\n",
       "race_Amer-Indian-Eskimo                                0.028762\n",
       "race_Other                                             0.024727\n",
       "occupation_Protective-serv                             0.022946\n",
       "occupation_Transport-moving                            0.022306\n",
       "workclass_Self-emp-not-inc                             0.021828\n",
       "education_Preschool                                    0.021638\n",
       "occupation_Craft-repair                                0.020658\n",
       "occupation_Sales                                       0.018098\n",
       "occupation_Tech-support                                0.017345\n",
       "race_Asian-Pac-Islander                                0.014102\n",
       "marital-status_Married-AF-spouse                       0.011689\n",
       "workclass_State-gov                                    0.009514\n",
       "workclass_Without-pay                                  0.007618\n",
       "education_Assoc-acdm                                   0.006991\n",
       "education_Assoc-voc                                    0.004648\n",
       "occupation_Armed-Forces                                0.001544"
      ]
     },
     "execution_count": 47,
     "metadata": {},
     "output_type": "execute_result"
    }
   ],
   "source": [
    "best_feat = np.abs(income_one_hot.corr()['Income_Above_or_Below_50K'])\n",
    "best_feat_corr = pd.DataFrame(best_feat[:-1]).sort_values('Income_Above_or_Below_50K',ascending=False)\n",
    "best_feat_corr"
   ]
  },
  {
   "cell_type": "code",
   "execution_count": 48,
   "metadata": {},
   "outputs": [
    {
     "data": {
      "text/plain": [
       "Text(0, 0.5, 'Features')"
      ]
     },
     "execution_count": 48,
     "metadata": {},
     "output_type": "execute_result"
    },
    {
     "data": {
      "image/png": "[encoded data removed]",
      "text/plain": [
       "<Figure size 864x720 with 1 Axes>"
      ]
     },
     "metadata": {
      "needs_background": "light"
     },
     "output_type": "display_data"
    }
   ],
   "source": [
    "plt.figure(figsize=(12,10))\n",
    "sns.barplot(x=best_feat_corr['Income_Above_or_Below_50K'], y=best_feat_corr.index)\n",
    "plt.xlabel('Feature Importance')\n",
    "plt.ylabel('Features')"
   ]
  },
  {
   "cell_type": "markdown",
   "metadata": {},
   "source": [
    "Besides the income, which is correlated with itself, the highest values are married-civ-spouse, relationship-Husband, and marital-status-never-married."
   ]
  },
  {
   "cell_type": "markdown",
   "metadata": {},
   "source": [
    "<h2>8. Conclusions</h2>\n",
    "<p>The factors most likely to determine that somebody has an income above 50000 are being married, being a husband, and never being married. Those that are never married likely have more time to put into their jobs and make more money. Married couples tend to have higher incomes because of their combined incomes. Husbands also tend to make more money than their wives.</p>"
   ]
  }
 ],
 "metadata": {
  "kernelspec": {
   "display_name": "Python 3",
   "language": "python",
   "name": "python3"
  },
  "language_info": {
   "codemirror_mode": {
    "name": "ipython",
    "version": 3
   },
   "file_extension": ".py",
   "mimetype": "text/x-python",
   "name": "python",
   "nbconvert_exporter": "python",
   "pygments_lexer": "ipython3",
   "version": "3.8.5"
  }
 },
 "nbformat": 4,
 "nbformat_minor": 4
}
