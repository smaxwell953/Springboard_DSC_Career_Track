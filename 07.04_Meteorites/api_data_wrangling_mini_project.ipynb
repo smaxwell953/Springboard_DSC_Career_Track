{
 "cells": [
  {
   "cell_type": "markdown",
   "metadata": {},
   "source": [
    "This exercise will require you to pull some data from the Qunadl API. Qaundl is currently the most widely used aggregator of financial market data."
   ]
  },
  {
   "cell_type": "markdown",
   "metadata": {},
   "source": [
    "As a first step, you will need to register a free account on the http://www.quandl.com website."
   ]
  },
  {
   "cell_type": "markdown",
   "metadata": {},
   "source": [
    "After you register, you will be provided with a unique API key, that you should store:"
   ]
  },
  {
   "cell_type": "code",
   "execution_count": 1,
   "metadata": {},
   "outputs": [],
   "source": [
    "# Store the API key as a string - according to PEP8, constants are always named in all upper case\n",
    "API_KEY = ''"
   ]
  },
  {
   "cell_type": "markdown",
   "metadata": {},
   "source": [
    "Qaundl has a large number of data sources, but, unfortunately, most of them require a Premium subscription. Still, there are also a good number of free datasets."
   ]
  },
  {
   "cell_type": "markdown",
   "metadata": {},
   "source": [
    "For this mini project, we will focus on equities data from the Frankfurt Stock Exhange (FSE), which is available for free. We'll try and analyze the stock prices of a company called Carl Zeiss Meditec, which manufactures tools for eye examinations, as well as medical lasers for laser eye surgery: https://www.zeiss.com/meditec/int/home.html. The company is listed under the stock ticker AFX_X."
   ]
  },
  {
   "cell_type": "markdown",
   "metadata": {},
   "source": [
    "You can find the detailed Quandl API instructions here: https://docs.quandl.com/docs/time-series"
   ]
  },
  {
   "cell_type": "markdown",
   "metadata": {},
   "source": [
    "While there is a dedicated Python package for connecting to the Quandl API, we would prefer that you use the *requests* package, which can be easily downloaded using *pip* or *conda*. You can find the documentation for the package here: http://docs.python-requests.org/en/master/ "
   ]
  },
  {
   "cell_type": "markdown",
   "metadata": {},
   "source": [
    "Finally, apart from the *requests* package, you are encouraged to not use any third party Python packages, such as *pandas*, and instead focus on what's available in the Python Standard Library (the *collections* module might come in handy: https://pymotw.com/3/collections/ ).\n",
    "Also, since you won't have access to DataFrames, you are encouraged to us Python's native data structures - preferably dictionaries, though some questions can also be answered using lists.\n",
    "You can read more on these data structures here: https://docs.python.org/3/tutorial/datastructures.html"
   ]
  },
  {
   "cell_type": "markdown",
   "metadata": {},
   "source": [
    "Keep in mind that the JSON responses you will be getting from the API map almost one-to-one to Python's dictionaries. Unfortunately, they can be very nested, so make sure you read up on indexing dictionaries in the documentation provided above."
   ]
  },
  {
   "cell_type": "code",
   "execution_count": 2,
   "metadata": {},
   "outputs": [],
   "source": [
    "# First, import the relevant modules\n",
    "import requests\n",
    "import json"
   ]
  },
  {
   "cell_type": "code",
   "execution_count": 3,
   "metadata": {},
   "outputs": [],
   "source": [
    "# Now, call the Quandl API and pull out a small sample of the data (only one day) to get a glimpse\n",
    "# into the JSON structure that will be returned\n",
    "r = requests.get('https://www.quandl.com/api/v3/datasets/FSE/EON_X.json?api_key=&start_date=2017-01-01&end_date=2017-12-31')"
   ]
  },
  {
   "cell_type": "code",
   "execution_count": 4,
   "metadata": {},
   "outputs": [
    {
     "name": "stdout",
     "output_type": "stream",
     "text": [
      "{'dataset': {'id': 36592406, 'dataset_code': 'EON_X', 'database_code': 'FSE', 'name': 'E.on Se (EON_X)', 'description': 'Stock Prices for E.on Se (2020-09-16) from the Frankfurt Stock Exchange.<br><br>Trading System: Xetra<br><br>ISIN: DE000ENAG999', 'refreshed_at': '2020-09-30T22:16:33.146Z', 'newest_available_date': '2020-09-30', 'oldest_available_date': '2003-01-20', 'column_names': ['Date', 'Open', 'High', 'Low', 'Close', 'Change', 'Traded Volume', 'Turnover', 'Last Price of the Day', 'Daily Traded Units', 'Daily Turnover'], 'frequency': 'daily', 'type': 'Time Series', 'premium': False, 'limit': None, 'transform': None, 'column_index': None, 'start_date': '2017-01-01', 'end_date': '2017-12-31', 'data': [['2017-12-29', 9.09, 9.12, 9.06, 9.06, None, 6460376.0, 58678823.0, None, None, None], ['2017-12-28', 9.15, 9.16, 9.06, 9.08, None, 5767048.0, 52509707.0, None, None, None], ['2017-12-27', 9.22, 9.28, 9.1, 9.15, None, 5746408.0, 52653378.0, None, None, None], ['2017-12-22', 9.11, 9.29, 9.1, 9.21, None, 7136948.0, 65877661.0, None, None, None], ['2017-12-21', 9.24, 9.28, 9.12, 9.16, None, 9590049.0, 88152723.0, None, None, None], ['2017-12-20', 9.43, 9.52, 9.22, 9.24, None, 11120418.0, 103561432.0, None, None, None], ['2017-12-19', 9.49, 9.5, 9.4, 9.4, None, 9705665.0, 91649218.0, None, None, None], ['2017-12-18', 9.48, 9.52, 9.4, 9.46, None, 8325901.0, 78752663.0, None, None, None], ['2017-12-15', 9.26, 9.44, 9.25, 9.39, None, 25076740.0, 234665258.0, None, None, None], ['2017-12-14', 9.27, 9.5, 9.08, 9.18, None, 24704077.0, 229276312.0, None, None, None], ['2017-12-13', 9.61, 9.67, 8.97, 9.22, None, 33648171.0, 312564976.0, None, None, None], ['2017-12-12', 9.65, 9.71, 9.62, 9.7, None, 9173835.0, 88856743.0, None, None, None], ['2017-12-11', 9.8, 9.83, 9.59, 9.64, None, 10447841.0, 100873030.0, None, None, None], ['2017-12-08', 9.82, 9.88, 9.74, 9.79, None, 8779613.0, 86140695.0, None, None, None], ['2017-12-07', 9.69, 9.79, 9.64, 9.76, None, 6903431.0, 67166910.0, None, None, None], ['2017-12-06', 9.68, 9.72, 9.57, 9.68, None, 8868812.0, 85503006.0, None, None, None], ['2017-12-05', 9.65, 9.79, 9.64, 9.76, None, 9538531.0, 92799452.0, None, None, None], ['2017-12-04', 9.7, 9.71, 9.58, 9.66, None, 8454783.0, 81666334.0, None, None, None], ['2017-12-01', 9.74, 9.8, 9.55, 9.61, None, 13552604.0, 130845736.0, None, None, None], ['2017-11-30', 9.85, 9.97, 9.71, 9.72, None, 17107609.0, 167415671.0, None, None, None], ['2017-11-29', 9.82, 9.98, 9.79, 9.85, None, 11768558.0, 116461173.0, None, None, None], ['2017-11-28', 9.7, 9.79, 9.64, 9.76, None, 8009273.0, 77954571.0, None, None, None], ['2017-11-27', 9.69, 9.79, 9.67, 9.7, None, 6221570.0, 60548768.0, None, None, None], ['2017-11-24', 9.75, 9.82, 9.68, 9.72, None, 6570531.0, 63935522.0, None, None, None], ['2017-11-23', 9.7, 9.78, 9.64, 9.74, None, 6970179.0, 67751858.0, None, None, None], ['2017-11-22', 9.84, 9.96, 9.73, 9.75, None, 8950816.0, 88194298.0, None, None, None], ['2017-11-21', 9.77, 9.85, 9.52, 9.82, None, 12917367.0, 126088034.0, None, None, None], ['2017-11-20', 9.84, 9.85, 9.74, 9.77, None, 10283951.0, 100659615.0, None, None, None], ['2017-11-17', 10.01, 10.04, 9.77, 9.78, None, 13413856.0, 132151905.0, None, None, None], ['2017-11-16', 9.98, 10.04, 9.9, 10.02, None, 10969182.0, 109518068.0, None, None, None], ['2017-11-15', 9.92, 9.93, 9.7, 9.91, None, 15746282.0, 154918403.0, None, None, None], ['2017-11-14', 10.18, 10.24, 9.96, 9.99, None, 11530898.0, 116131952.0, None, None, None], ['2017-11-13', 10.3, 10.37, 9.97, 10.1, None, 12297543.0, 124284859.0, None, None, None], ['2017-11-10', 10.43, 10.5, 10.26, 10.26, None, 12584979.0, 130175212.0, None, None, None], ['2017-11-09', 10.75, 10.81, 10.35, 10.41, None, 15724556.0, 165110919.0, None, None, None], ['2017-11-08', 10.69, 10.75, 10.59, 10.69, None, 9864769.0, 105376599.0, None, None, None], ['2017-11-07', 10.53, 10.62, 10.47, 10.55, None, 10600909.0, 111777664.0, None, None, None], ['2017-11-06', 10.37, 10.5, 10.37, 10.48, None, 6765481.0, 70713026.0, None, None, None], ['2017-11-03', 10.46, 10.5, 10.33, 10.37, None, 7982853.0, 82871298.0, None, None, None], ['2017-11-02', 10.4, 10.45, 10.33, 10.41, None, 8071340.0, 83908015.0, None, None, None], ['2017-11-01', 10.16, 10.5, 10.16, 10.39, None, 11849267.0, 122972211.0, None, None, None], ['2017-10-30', 10.09, 10.15, 10.03, 10.13, None, 7569961.0, 76504742.0, None, None, None], ['2017-10-27', 10.03, 10.11, 9.98, 10.08, None, 11443604.0, 115102668.0, None, None, None], ['2017-10-26', 9.84, 10.0, 9.7, 9.98, None, 12834154.0, 126846747.0, None, None, None], ['2017-10-25', 10.02, 10.04, 9.76, 9.8, None, 9641638.0, 95107297.0, None, None, None], ['2017-10-24', 10.02, 10.1, 9.97, 10.03, None, 7363819.0, 73825942.0, None, None, None], ['2017-10-23', 10.05, 10.11, 9.97, 10.03, None, 5216848.0, 52372544.0, None, None, None], ['2017-10-20', 10.03, 10.13, 10.01, 10.04, None, 8275609.0, 83180867.0, None, None, None], ['2017-10-19', 10.01, 10.05, 9.92, 10.0, None, 9451721.0, 94333642.0, None, None, None], ['2017-10-18', 10.08, 10.1, 9.96, 9.96, None, 6020907.0, 60202305.0, None, None, None], ['2017-10-17', 9.93, 10.1, 9.92, 10.04, None, 7590534.0, 76215676.0, None, None, None], ['2017-10-16', 10.02, 10.02, 9.92, 9.94, None, 5663369.0, 56348366.0, None, None, None], ['2017-10-13', 9.99, 10.07, 9.95, 9.99, None, 7985728.0, 79819962.0, None, None, None], ['2017-10-12', 9.9, 10.01, 9.84, 9.96, None, 10431848.0, 103733631.0, None, None, None], ['2017-10-11', 9.63, 9.88, 9.63, 9.86, None, 11999729.0, 117664783.0, None, None, None], ['2017-10-10', 9.67, 9.7, 9.54, 9.59, None, 7654976.0, 73421334.0, None, None, None], ['2017-10-09', 9.43, 9.73, 9.43, 9.69, None, 12158769.0, 116994569.0, None, None, None], ['2017-10-06', 9.53, 9.56, 9.38, 9.4, None, 9539250.0, 90087504.0, None, None, None], ['2017-10-05', 9.4, 9.61, 9.4, 9.51, None, 10223801.0, 97296689.0, None, None, None], ['2017-10-04', 9.7, 9.77, 9.21, 9.42, None, 27239097.0, 256637207.0, None, None, None], ['2017-10-02', 9.58, 9.69, 9.55, 9.69, None, 8449108.0, 81466532.0, None, None, None], ['2017-09-29', 9.36, 9.58, 9.33, 9.58, None, 16145484.0, 153465206.0, None, None, None], ['2017-09-28', 9.36, 9.36, 9.27, 9.36, None, 9756533.0, 91043702.0, None, None, None], ['2017-09-27', 9.35, 9.4, 9.25, 9.37, None, 10186515.0, 95176147.0, None, None, None], ['2017-09-26', 9.25, 9.35, 9.22, 9.32, None, 7778453.0, 72467672.0, None, None, None], ['2017-09-25', 9.27, 9.36, 9.18, 9.25, None, 9840754.0, 91134020.0, None, None, None], ['2017-09-22', 9.18, 9.32, 9.17, 9.31, None, 8978085.0, 83297106.0, None, None, None], ['2017-09-21', 9.5, 9.5, 9.19, 9.2, None, 15323706.0, 141717907.0, None, None, None], ['2017-09-20', 9.17, 9.58, 9.16, 9.46, None, 21672644.0, 204578482.0, None, None, None], ['2017-09-19', 9.2, 9.24, 9.11, 9.21, None, 6880388.0, 63190793.0, None, None, None], ['2017-09-18', 9.23, 9.32, 9.17, 9.21, None, 8209261.0, 75703305.0, None, None, None], ['2017-09-15', 9.13, 9.25, 9.12, 9.16, None, 22329629.0, 205289081.0, None, None, None], ['2017-09-14', 9.28, 9.29, 9.16, 9.21, None, 13029895.0, 120073617.0, None, None, None], ['2017-09-13', 9.4, 9.52, 9.28, 9.3, None, 15424594.0, 144270967.0, None, None, None], ['2017-09-12', 9.68, 9.74, 9.45, 9.45, None, 11023080.0, 105500771.0, None, None, None], ['2017-09-11', 9.53, 9.65, 9.49, 9.64, None, 7915425.0, 76072127.0, None, None, None], ['2017-09-08', 9.58, 9.62, 9.51, 9.58, None, 7409533.0, 70870074.0, None, None, None], ['2017-09-07', 9.48, 9.68, 9.46, 9.57, None, 14701523.0, 141113708.0, None, None, None], ['2017-09-06', 9.46, 9.52, 9.36, 9.4, None, 13119331.0, 123710453.0, None, None, None], ['2017-09-05', 9.56, 9.6, 9.47, 9.54, None, 7270786.0, 69353908.0, None, None, None], ['2017-09-04', 9.55, 9.59, 9.5, 9.57, None, 6551151.0, 62602246.0, None, None, None], ['2017-09-01', 9.53, 9.67, 9.53, 9.63, None, 8873168.0, 85307201.0, None, None, None], ['2017-08-31', 9.51, 9.61, 9.49, 9.5, None, 8807110.0, 83920590.0, None, None, None], ['2017-08-30', 9.47, 9.52, 9.33, 9.49, None, 7429024.0, 70129271.0, None, None, None], ['2017-08-29', 9.42, 9.47, 9.29, 9.41, None, 9723968.0, 91324255.0, None, None, None], ['2017-08-28', 9.41, 9.54, 9.4, 9.48, None, 3983190.0, 37768897.0, None, None, None], ['2017-08-25', 9.45, 9.51, 9.31, 9.46, None, 9539565.0, 90046490.0, None, None, None], ['2017-08-24', 9.4, 9.52, 9.38, 9.43, None, 8650308.0, 81784511.0, None, None, None], ['2017-08-23', 9.51, 9.58, 9.37, 9.37, None, 11579355.0, 109075295.0, None, None, None], ['2017-08-22', 9.45, 9.48, 9.41, 9.44, None, 10609864.0, 100240360.0, None, None, None], ['2017-08-21', 9.59, 9.62, 9.34, 9.4, None, 15995054.0, 151122639.0, None, None, None], ['2017-08-18', 9.53, 9.62, 9.5, 9.62, None, 11557298.0, 110545855.0, None, None, None], ['2017-08-17', 9.6, 9.71, 9.58, 9.6, None, 10888933.0, 104848365.0, None, None, None], ['2017-08-16', 9.59, 9.61, 9.5, 9.6, None, 9717220.0, 92946666.0, None, None, None], ['2017-08-15', 9.5, 9.6, 9.47, 9.53, None, 10048807.0, 95844151.0, None, None, None], ['2017-08-14', 9.34, 9.51, 9.33, 9.45, None, 16060579.0, 151747829.0, None, None, None], ['2017-08-11', 9.08, 9.29, 9.06, 9.26, None, 14591789.0, 134444500.0, None, None, None], ['2017-08-10', 9.23, 9.41, 9.06, 9.12, None, 19513172.0, 179620232.0, None, None, None], ['2017-08-09', 8.98, 9.24, 8.66, 9.23, None, 32195058.0, 289748537.0, None, None, None], ['2017-08-08', 8.8, 8.93, 8.73, 8.9, None, 13287027.0, 117412118.0, None, None, None], ['2017-08-07', 8.83, 8.83, 8.7, 8.75, None, 9317865.0, 81470723.0, None, None, None], ['2017-08-04', 8.53, 8.83, 8.51, 8.81, None, 16269744.0, 142057194.0, None, None, None], ['2017-08-03', 8.53, 8.6, 8.47, 8.52, None, 9895592.0, 84409965.0, None, None, None], ['2017-08-02', 8.64, 8.69, 8.48, 8.53, None, 9365873.0, 80352199.0, None, None, None], ['2017-08-01', 8.4, 8.59, 8.38, 8.55, None, 11013587.0, 93611124.0, None, None, None], ['2017-07-31', 8.26, 8.46, 8.25, 8.36, None, 10560439.0, 88438630.0, None, None, None], ['2017-07-28', 8.38, 8.39, 8.23, 8.26, None, 10163161.0, 84127418.0, None, None, None], ['2017-07-27', 8.36, 8.52, 8.34, 8.43, None, 8713476.0, 73653514.0, None, None, None], ['2017-07-26', 8.31, 8.44, 8.28, 8.38, None, 8393118.0, 70419338.0, None, None, None], ['2017-07-25', 8.35, 8.38, 8.28, 8.3, None, 7953383.0, 66186157.0, None, None, None], ['2017-07-24', 8.37, 8.42, 8.34, 8.34, None, 7184752.0, 60113576.0, None, None, None], ['2017-07-21', 8.44, 8.53, 8.3, 8.36, None, 12850957.0, 108130516.0, None, None, None], ['2017-07-20', 8.6, 8.64, 8.42, 8.46, None, 10672283.0, 90737748.0, None, None, None], ['2017-07-19', 8.52, 8.56, 8.48, 8.55, None, 8851145.0, 75494350.0, None, None, None], ['2017-07-18', 8.54, 8.58, 8.46, 8.49, None, 7970806.0, 67776284.0, None, None, None], ['2017-07-17', 8.6, 8.62, 8.53, 8.56, None, 5588141.0, 47861908.0, None, None, None], ['2017-07-14', 8.57, 8.62, 8.53, 8.57, None, 6319051.0, 54172394.0, None, None, None], ['2017-07-13', 8.62, 8.65, 8.52, 8.59, None, 8400494.0, 72137291.0, None, None, None], ['2017-07-12', 8.39, 8.61, 8.36, 8.59, None, 10562218.0, 89946459.0, None, None, None], ['2017-07-11', 8.46, 8.52, 8.35, 8.36, None, 8705480.0, 73116015.0, None, None, None], ['2017-07-10', 8.42, 8.48, 8.33, 8.43, None, 12868805.0, 108324928.0, None, None, None], ['2017-07-07', 8.17, 8.34, 8.15, 8.24, None, 14552537.0, 120180639.0, None, None, None], ['2017-07-06', 8.25, 8.26, 8.0, 8.08, None, 15050369.0, 121613497.0, None, None, None], ['2017-07-05', 8.25, 8.3, 8.21, 8.23, None, 8636544.0, 71259317.0, None, None, None], ['2017-07-04', 8.29, 8.32, 8.22, 8.27, None, 7173065.0, 59349288.0, None, None, None], ['2017-07-03', 8.34, 8.39, 8.26, 8.31, None, 8683979.0, 72221601.0, None, None, None], ['2017-06-30', 8.35, 8.47, 8.25, 8.25, None, 12404646.0, 103286544.0, None, None, None], ['2017-06-29', 8.62, 8.66, 8.33, 8.36, None, 13842869.0, 116532872.0, None, None, None], ['2017-06-28', 8.6, 8.69, 8.48, 8.57, None, 14634382.0, 125632088.0, None, None, None], ['2017-06-27', 8.93, 8.97, 8.68, 8.69, None, 14607581.0, 128185795.0, None, None, None], ['2017-06-26', 8.94, 9.0, 8.89, 8.96, None, 6866528.0, 61436516.0, None, None, None], ['2017-06-23', 9.0, 9.03, 8.86, 8.91, None, 9735894.0, 86740502.0, None, None, None], ['2017-06-22', 8.98, 9.08, 8.93, 9.03, None, 11581164.0, 104364456.0, None, None, None], ['2017-06-21', 9.03, 9.1, 8.96, 9.05, None, 8863975.0, 80071192.0, None, None, None], ['2017-06-20', 9.1, 9.17, 8.98, 9.06, None, 15777778.0, 143437660.0, None, None, None], ['2017-06-19', 8.98, 9.06, 8.9, 8.97, None, 12191234.0, 109348400.0, None, None, None], ['2017-06-16', 8.83, 8.88, 8.76, 8.84, None, 37575283.0, 331880227.0, None, None, None], ['2017-06-15', 8.82, 8.82, 8.61, 8.79, None, 12888067.0, 112595899.0, None, None, None], ['2017-06-14', 8.66, 8.91, 8.65, 8.82, None, 14786190.0, 130388482.0, None, None, None], ['2017-06-13', 8.69, 8.74, 8.57, 8.64, None, 12380558.0, 107103372.0, None, None, None], ['2017-06-12', 8.78, 8.79, 8.63, 8.66, None, 13956678.0, 121229854.0, None, None, None], ['2017-06-09', 8.8, 8.86, 8.66, 8.8, None, 15157954.0, 132742562.0, None, None, None], ['2017-06-08', 8.55, 8.84, 8.54, 8.79, None, 296098.0, 2575466.0, None, None, None], ['2017-06-07', 8.03, 8.54, 7.93, 8.45, None, 341181.0, 2852694.0, None, None, None], ['2017-06-06', 7.8, 8.09, 7.77, 8.05, None, 25116302.0, 200012623.0, None, None, None], ['2017-06-02', 7.8, 7.91, 7.8, 7.83, None, 47993.0, 376818.0, None, None, None], ['2017-06-01', 7.8, 7.88, 7.75, 7.78, None, 81143.0, 632910.0, None, None, None], ['2017-05-31', 7.6, 7.88, 7.59, 7.75, None, 44102.0, 340455.0, None, None, None], ['2017-05-30', 7.56, 7.59, 7.54, 7.58, None, 21056.0, 159261.0, None, None, None], ['2017-05-29', 7.51, 7.56, 7.49, 7.56, None, 25539.0, 191981.0, None, None, None], ['2017-05-26', 7.6, 7.6, 7.48, 7.54, None, 11817979.0, 88926416.0, None, None, None], ['2017-05-25', 7.68, 7.7, 7.61, 7.62, None, 7109174.0, 54325827.0, None, None, None], ['2017-05-24', 7.68, 7.76, 7.64, 7.65, None, 11430214.0, 87595402.0, None, None, None], ['2017-05-23', 7.37, 7.68, 7.37, 7.68, None, 21299782.0, 161594760.0, None, None, None], ['2017-05-22', 7.43, 7.49, 7.38, 7.39, None, 12057526.0, 89483127.0, None, None, None], ['2017-05-19', 7.17, 7.46, 7.17, 7.39, None, 109481.0, 803968.0, None, None, None], ['2017-05-18', 7.21, 7.23, 7.11, 7.17, None, 13175778.0, 94434217.0, None, None, None], ['2017-05-17', 7.25, 7.26, 7.17, 7.2, None, 14287354.0, 102887569.0, None, None, None], ['2017-05-16', 7.29, 7.35, 7.25, 7.28, None, 10346390.0, 75381632.0, None, None, None], ['2017-05-15', 7.24, 7.31, 7.19, 7.3, None, 11780458.0, 85454077.0, None, None, None], ['2017-05-12', 7.21, 7.26, 7.14, 7.21, None, 12903026.0, 92799571.0, None, None, None], ['2017-05-11', 7.25, 7.35, 7.17, 7.21, None, 18393984.0, 133472940.0, None, None, None], ['2017-05-10', 7.37, 7.42, 7.28, 7.4, None, 22158490.0, 162925962.0, None, None, None], ['2017-05-09', 7.09, 7.43, 7.01, 7.4, None, 32514013.0, 237346562.0, None, None, None], ['2017-05-08', 7.11, 7.14, 7.05, 7.09, None, 13455502.0, 95588363.0, None, None, None], ['2017-05-05', 7.08, 7.1, 7.01, 7.07, None, 20059732.0, 141339828.0, None, None, None], ['2017-05-04', 7.17, 7.19, 7.06, 7.15, None, 20530824.0, 146192823.0, None, None, None], ['2017-05-03', 7.25, 7.25, 7.13, 7.16, None, 11568346.0, 82852195.0, None, None, None], ['2017-05-02', 7.17, 7.28, 7.14, 7.25, None, 9925962.0, 71776370.0, None, None, None], ['2017-04-28', 7.1, 7.17, 7.08, 7.16, None, 12604903.0, 89924717.0, None, None, None], ['2017-04-27', 7.12, 7.19, 7.08, 7.12, None, 10497475.0, 74864050.0, None, None, None], ['2017-04-26', 7.23, 7.24, 7.13, 7.15, None, 10439934.0, 74748192.0, None, None, None], ['2017-04-25', 7.29, 7.29, 7.21, 7.23, None, 9686762.0, 70079822.0, None, None, None], ['2017-04-24', 7.28, 7.37, 7.23, 7.26, None, 18894764.0, 137794927.0, None, None, None], ['2017-04-21', 7.12, 7.19, 7.05, 7.17, None, 15464254.0, 110241181.0, None, None, None], ['2017-04-20', 7.13, 7.21, 7.08, 7.11, None, 13038922.0, 92981651.0, None, None, None], ['2017-04-19', 7.2, 7.22, 7.11, 7.12, None, 13022034.0, 93038115.0, None, None, None], ['2017-04-18', 7.3, 7.36, 7.18, 7.2, None, 11449732.0, 83013031.0, None, None, None], ['2017-04-13', 7.35, 7.37, 7.28, 7.28, None, 6917993.0, 50548506.0, None, None, None], ['2017-04-12', 7.38, 7.42, 7.33, 7.37, None, 7721497.0, 56938723.0, None, None, None], ['2017-04-11', 7.33, 7.4, 7.32, 7.38, None, 8169606.0, 60171996.0, None, None, None], ['2017-04-10', 7.4, 7.42, 7.31, 7.36, None, 5788704.0, 42551549.0, None, None, None], ['2017-04-07', 7.37, 7.39, 7.32, 7.39, None, 9557643.0, 70380729.0, None, None, None], ['2017-04-06', 7.27, 7.36, 7.21, 7.35, None, 10164535.0, 74279031.0, None, None, None], ['2017-04-05', 7.33, 7.37, 7.3, 7.3, None, 12337319.0, 90344920.0, None, None, None], ['2017-04-04', 7.41, 7.42, 7.27, 7.31, None, 11596800.0, 84838353.0, None, None, None], ['2017-04-03', 7.49, 7.5, 7.4, 7.4, None, 12432014.0, 92404837.0, None, None, None], ['2017-03-31', 7.3, 7.45, 7.29, 7.45, None, 17352669.0, 128587248.0, None, None, None], ['2017-03-30', 7.34, 7.36, 7.26, 7.3, None, 10921616.0, 79748786.0, None, None, None], ['2017-03-29', 7.34, 7.39, 7.29, 7.33, None, 10928460.0, 80178834.0, None, None, None], ['2017-03-28', 7.3, 7.37, 7.28, 7.31, None, 15912006.0, 116476633.0, None, None, None], ['2017-03-27', 7.21, 7.27, 7.14, 7.25, None, 13601249.0, 98228809.0, None, None, None], ['2017-03-24', 7.2, 7.28, 7.16, 7.26, None, 14770906.0, 107095020.0, None, None, None], ['2017-03-23', 7.14, 7.17, 7.07, 7.16, None, 10744019.0, 76609792.0, None, None, None], ['2017-03-22', 7.11, 7.14, 7.05, 7.1, None, 25728721.0, 182668575.0, None, None, None], ['2017-03-21', 7.18, 7.23, 7.08, 7.1, None, 24136519.0, 172708863.0, None, None, None], ['2017-03-20', 7.08, 7.17, 7.04, 7.15, None, 14494303.0, 103075147.0, None, None, None], ['2017-03-17', 6.83, 7.09, 6.79, 7.08, None, 47839725.0, 333177775.0, None, None, None], ['2017-03-16', 6.9, 6.9, 6.81, 6.83, None, 19074472.0, 130570469.0, None, None, None], ['2017-03-15', 7.1, 7.11, 6.7, 6.77, None, 35037024.0, 238969011.0, None, None, None], ['2017-03-14', 7.14, 7.16, 7.0, 7.02, None, 22605809.0, 159608485.0, None, None, None], ['2017-03-13', 7.04, 7.06, 6.97, 6.99, None, 10148631.0, 71040484.0, None, None, None], ['2017-03-10', 7.1, 7.19, 7.03, 7.03, None, 13326866.0, 94648058.0, None, None, None], ['2017-03-09', 7.06, 7.09, 6.98, 7.05, None, 19595742.0, 138002620.0, None, None, None], ['2017-03-08', 7.35, 7.37, 7.11, 7.11, None, 21653884.0, 155534792.0, None, None, None], ['2017-03-07', 7.51, 7.51, 7.32, 7.38, None, 15116696.0, 111709918.0, None, None, None], ['2017-03-06', 7.47, 7.57, 7.41, 7.55, None, 9031030.0, 67892911.0, None, None, None], ['2017-03-03', 7.44, 7.59, 7.44, 7.48, None, 11062627.0, 83030609.0, None, None, None], ['2017-03-02', 7.48, 7.6, 7.44, 7.46, None, 11291216.0, 84693469.0, None, None, None], ['2017-03-01', 7.35, 7.5, 7.35, 7.49, None, 11900542.0, 88773706.0, None, None, None], ['2017-02-28', 7.34, 7.35, 7.28, 7.33, None, 8110142.0, 59340006.0, None, None, None], ['2017-02-27', 7.16, 7.34, 7.14, 7.32, None, 12374970.0, 89896619.0, None, None, None], ['2017-02-24', 7.22, 7.26, 7.08, 7.14, None, 9719907.0, 69501774.0, None, None, None], ['2017-02-23', 7.21, 7.24, 7.18, 7.24, None, 6321485.0, 45635613.0, None, None, None], ['2017-02-22', 7.22, 7.28, 7.19, 7.2, None, 8137318.0, 58807199.0, None, None, None], ['2017-02-21', 7.15, 7.25, 7.13, 7.22, None, 8934462.0, 64373793.0, None, None, None], ['2017-02-20', 7.11, 7.16, 7.07, 7.14, None, 7151697.0, 50960082.0, None, None, None], ['2017-02-17', 7.13, 7.13, 7.01, 7.06, None, 9265519.0, 65437732.0, None, None, None], ['2017-02-16', 7.12, 7.16, 7.08, 7.13, None, 8469225.0, 60353034.0, None, None, None], ['2017-02-15', 7.2, 7.26, 7.08, 7.14, None, 8495661.0, 60798922.0, None, None, None], ['2017-02-14', 7.23, 7.26, 7.13, 7.16, None, 9158050.0, 65966885.0, None, None, None], ['2017-02-13', 7.09, 7.27, 7.07, 7.21, None, 12462574.0, 89751666.0, None, None, None], ['2017-02-10', 7.12, 7.19, 7.07, 7.08, None, 7274426.0, 51744799.0, None, None, None], ['2017-02-09', 6.99, 7.18, 6.99, 7.08, None, 12535086.0, 89041130.0, None, None, None], ['2017-02-08', 6.92, 7.0, 6.88, 6.98, None, 9371655.0, 65217995.0, None, None, None], ['2017-02-07', 6.91, 6.99, 6.9, 6.94, None, 6125955.0, 42521066.0, None, None, None], ['2017-02-06', 6.99, 7.03, 6.89, 6.9, None, 10687733.0, 74304082.0, None, None, None], ['2017-02-03', 6.97, 7.02, 6.86, 6.97, None, 13307893.0, 92307197.0, None, None, None], ['2017-02-02', 7.06, 7.07, 6.98, 7.04, None, 9721488.0, 68382636.0, None, None, None], ['2017-02-01', 7.16, 7.22, 7.03, 7.05, None, 12254469.0, 87024473.0, None, None, None], ['2017-01-31', 7.1, 7.18, 7.06, 7.1, None, 14253887.0, 101409524.0, None, None, None], ['2017-01-30', 7.23, 7.24, 7.1, 7.11, None, 13393862.0, 95560680.0, None, None, None], ['2017-01-27', 7.37, 7.37, 7.27, 7.28, None, 6719932.0, 49091211.0, None, None, None], ['2017-01-26', 7.4, 7.4, 7.3, 7.35, None, 8232211.0, 60493053.0, None, None, None], ['2017-01-25', 7.34, 7.39, 7.27, 7.35, None, 10523803.0, 77297792.0, None, None, None], ['2017-01-24', 7.34, 7.35, 7.24, 7.27, None, 10188164.0, 74136964.0, None, None, None], ['2017-01-23', 7.33, 7.36, 7.27, 7.32, None, 8137863.0, 59578446.0, None, None, None], ['2017-01-20', 7.32, 7.42, 7.3, 7.36, None, 11557939.0, 85114985.0, None, None, None], ['2017-01-19', 7.36, 7.37, 7.26, 7.31, None, 11817024.0, 86482218.0, None, None, None], ['2017-01-18', 7.37, 7.43, 7.23, 7.35, None, 16499610.0, 121012543.0, None, None, None], ['2017-01-17', 7.25, 7.26, 7.18, 7.24, None, 8101383.0, 58449263.0, None, None, None], ['2017-01-16', 7.2, 7.28, 7.16, 7.22, None, 10568475.0, 76383668.0, None, None, None], ['2017-01-13', 7.2, 7.22, 7.06, 7.17, None, 12281550.0, 87603885.0, None, None, None], ['2017-01-12', 7.02, 7.26, 7.01, 7.17, None, 21858592.0, 156742283.0, None, None, None], ['2017-01-11', 6.7, 7.06, 6.7, 7.0, None, 26015232.0, 179709628.0, None, None, None], ['2017-01-10', 6.65, 6.68, 6.53, 6.68, None, 11885718.0, 78729742.0, None, None, None], ['2017-01-09', 6.68, 6.7, 6.6, 6.64, None, 6713309.0, 44560762.0, None, None, None], ['2017-01-06', 6.69, 6.7, 6.63, 6.65, None, 7002514.0, 46636671.0, None, None, None], ['2017-01-05', 6.65, 6.74, 6.63, 6.71, None, 6821258.0, 45641465.0, None, None, None], ['2017-01-04', 6.76, 6.76, 6.64, 6.68, None, 8110881.0, 54183528.0, None, None, None], ['2017-01-03', 6.85, 6.85, 6.71, 6.73, None, 10582812.0, 71365029.0, None, None, None], ['2017-01-02', 6.72, 6.87, 6.7, 6.82, None, 6957428.0, 47408816.0, None, None, None]], 'collapse': None, 'order': None, 'database_id': 6129}}\n"
     ]
    }
   ],
   "source": [
    "# Inspect the JSON structure of the object you created, and take note of how nested it is,\n",
    "# as well as the overall structure\n",
    "print(r.json())"
   ]
  },
  {
   "cell_type": "markdown",
   "metadata": {},
   "source": [
    "These are your tasks for this mini project:\n",
    "\n",
    "1. Collect data from the Franfurt Stock Exchange, for the ticker AFX_X, for the whole year 2017 (keep in mind that the date format is YYYY-MM-DD).\n",
    "2. Convert the returned JSON object into a Python dictionary.\n",
    "3. Calculate what the highest and lowest opening prices were for the stock in this period.\n",
    "4. What was the largest change in any one day (based on High and Low price)?\n",
    "5. What was the largest change between any two days (based on Closing Price)?\n",
    "6. What was the average daily trading volume during this year?\n",
    "7. (Optional) What was the median trading volume during this year. (Note: you may need to implement your own function for calculating the median.)"
   ]
  },
  {
   "cell_type": "code",
   "execution_count": 5,
   "metadata": {},
   "outputs": [],
   "source": [
    "#1. Collect data from the Franfurt Stock Exchange, for the ticker AFX_X, for the whole year 2017 (keep in mind that the date format is YYYY-MM-DD).\n",
    "url = 'https://www.quandl.com/api/v3/datasets/FSE/AFX_X/data.json?start_date=2017-01-01&end_date=2017-12-31&api_key='+API_KEY\n",
    "r = requests.get(url)"
   ]
  },
  {
   "cell_type": "code",
   "execution_count": 6,
   "metadata": {},
   "outputs": [],
   "source": [
    "#2. Convert the returned JSON object into a Python dictionary.\n",
    "afx_2017 = r.json()"
   ]
  },
  {
   "cell_type": "code",
   "execution_count": 7,
   "metadata": {},
   "outputs": [
    {
     "name": "stdout",
     "output_type": "stream",
     "text": [
      "The highest opening price is 53.11 and the lowest opening price is 34.0\n"
     ]
    }
   ],
   "source": [
    "#3. Calculate what the highest and lowest opening prices were for the stock in this period.\n",
    "open_price=[]\n",
    "for row in range(len(afx_2017['dataset_data']['data'])):\n",
    "    opening=afx_2017['dataset_data']['data'][row][1]\n",
    "    if opening != None:\n",
    "        open_price.append(opening)\n",
    "\n",
    "print('The highest opening price is '+ str(max(open_price)) + ' and the lowest opening price is ' + str(min(open_price)))"
   ]
  },
  {
   "cell_type": "code",
   "execution_count": 8,
   "metadata": {},
   "outputs": [
    {
     "name": "stdout",
     "output_type": "stream",
     "text": [
      "The largest change in any one day was 2.8100000000000023\n"
     ]
    }
   ],
   "source": [
    "#4. What was the largest change in any one day (based on High and Low price)?\n",
    "\n",
    "largestChange1 = []\n",
    "\n",
    "for row in range(len(afx_2017['dataset_data']['data'])):\n",
    "    largestChange1.append(afx_2017['dataset_data']['data'][row][2] - afx_2017['dataset_data']['data'][row][3])\n",
    "\n",
    "print('The largest change in any one day was ' + str(max(largestChange1)))"
   ]
  },
  {
   "cell_type": "code",
   "execution_count": 9,
   "metadata": {},
   "outputs": [
    {
     "name": "stdout",
     "output_type": "stream",
     "text": [
      "The largest change between any two days was 1.7199999999999989\n"
     ]
    }
   ],
   "source": [
    "#5. What was the largest change between any two days (based on Closing Price)?\n",
    "\n",
    "largestChange2 = []\n",
    "\n",
    "for row in range(len(afx_2017['dataset_data']['data'])):\n",
    "    if row + 1 < len(afx_2017['dataset_data']['data']):\n",
    "        largestChange2.append(afx_2017['dataset_data']['data'][row][4] - afx_2017['dataset_data']['data'][row+1][4])\n",
    "\n",
    "print('The largest change between any two days was ' + str(max(largestChange2)))"
   ]
  },
  {
   "cell_type": "code",
   "execution_count": 10,
   "metadata": {},
   "outputs": [
    {
     "name": "stdout",
     "output_type": "stream",
     "text": [
      "The average daily trading volume in 2017 was 89124.33725490196\n"
     ]
    }
   ],
   "source": [
    "#6. What was the average daily trading volume during this year?\n",
    "\n",
    "avg_vol = 0\n",
    "\n",
    "for row in range(len(afx_2017['dataset_data']['data'])):\n",
    "    avg_vol = avg_vol + afx_2017['dataset_data']['data'][row][6]\n",
    "\n",
    "print(\"The average daily trading volume in 2017 was\",(avg_vol/len(afx_2017['dataset_data']['data'])))"
   ]
  },
  {
   "cell_type": "code",
   "execution_count": 11,
   "metadata": {},
   "outputs": [
    {
     "name": "stdout",
     "output_type": "stream",
     "text": [
      "The median trading volume in 2017 was 76286.0\n"
     ]
    }
   ],
   "source": [
    "#7. (Optional) What was the median trading volume during this year. (Note: you may need to implement your own function for calculating the median.)\n",
    "\n",
    "med_vol = []\n",
    "\n",
    "for row in range(len(afx_2017['dataset_data']['data'])):\n",
    "    volume=afx_2017['dataset_data']['data'][row][6]\n",
    "    if volume is not None:\n",
    "        med_vol.append(volume)\n",
    "\n",
    "def median_calc(thislist):\n",
    "    thislist.sort()\n",
    "    if len(thislist) % 2 == 0:\n",
    "        middle = (len(thislist) - 1) // 2\n",
    "        median = (thislist[middle] + thislist[middle+1]) / 2\n",
    "    else:\n",
    "        middle = (len(thislist) - 1) // 2\n",
    "        median = thislist[middle]\n",
    "    return median\n",
    "\n",
    "print(\"The median trading volume in 2017 was\", median_calc(med_vol))"
   ]
  },
  {
   "cell_type": "code",
   "execution_count": null,
   "metadata": {},
   "outputs": [],
   "source": []
  }
 ],
 "metadata": {
  "kernelspec": {
   "display_name": "Python 3",
   "language": "python",
   "name": "python3"
  },
  "language_info": {
   "codemirror_mode": {
    "name": "ipython",
    "version": 3
   },
   "file_extension": ".py",
   "mimetype": "text/x-python",
   "name": "python",
   "nbconvert_exporter": "python",
   "pygments_lexer": "ipython3",
   "version": "3.6.5"
  }
 },
 "nbformat": 4,
 "nbformat_minor": 2
}
