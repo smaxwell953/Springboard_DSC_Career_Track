{
 "cells": [
  {
   "cell_type": "code",
   "execution_count": 52,
   "metadata": {},
   "outputs": [],
   "source": [
    "import pandas as pd\n",
    "import numpy as np\n",
    "import seaborn as sns\n",
    "import statsmodels.api as sm\n",
    "import matplotlib.pyplot as plt\n",
    "%matplotlib inline"
   ]
  },
  {
   "cell_type": "code",
   "execution_count": 26,
   "metadata": {},
   "outputs": [],
   "source": [
    "housing = pd.read_csv('housing_cleaned_1.csv')"
   ]
  },
  {
   "cell_type": "code",
   "execution_count": 27,
   "metadata": {},
   "outputs": [],
   "source": [
    "#Splitting dataset into independent and dependent variables\n",
    "X = housing.drop(['SalePrice'], axis=1)\n",
    "y = housing['SalePrice']"
   ]
  },
  {
   "cell_type": "code",
   "execution_count": 28,
   "metadata": {},
   "outputs": [],
   "source": [
    "# Splitting into training and test set\n",
    "from sklearn.model_selection import train_test_split\n",
    "\n",
    "X_train, X_test, y_train, y_test = train_test_split(X,y,test_size = 0.3, random_state = 42)"
   ]
  },
  {
   "cell_type": "code",
   "execution_count": 29,
   "metadata": {},
   "outputs": [],
   "source": [
    "# feature names in a list\n",
    "feature_names_train = [x for x in X_train.columns]\n",
    "feature_names_test = [x for x in X_test.columns]\n",
    "\n",
    "# Feature Scaling\n",
    "from sklearn.preprocessing import MinMaxScaler\n",
    "scaler=MinMaxScaler()\n",
    "scaler.fit(X_train)\n",
    "X_train = scaler.transform(X_train)\n",
    "X_test = scaler.transform(X_test)\n",
    "\n",
    "# Convert back to dataframe\n",
    "X_train = pd.DataFrame(data = X_train, columns = feature_names_train)\n",
    "X_test = pd.DataFrame(data = X_test, columns = feature_names_test)"
   ]
  },
  {
   "cell_type": "markdown",
   "metadata": {},
   "source": [
    "<strong>Use Lasso to select the more important features.</strong>"
   ]
  },
  {
   "cell_type": "code",
   "execution_count": 30,
   "metadata": {},
   "outputs": [],
   "source": [
    "from sklearn.linear_model import Lasso\n",
    "from sklearn.feature_selection import SelectFromModel"
   ]
  },
  {
   "cell_type": "code",
   "execution_count": 31,
   "metadata": {},
   "outputs": [],
   "source": [
    "clf = Lasso(alpha=0.005, random_state=0)"
   ]
  },
  {
   "cell_type": "code",
   "execution_count": 32,
   "metadata": {},
   "outputs": [
    {
     "name": "stderr",
     "output_type": "stream",
     "text": [
      "C:\\Users\\saraa\\anaconda3\\lib\\site-packages\\sklearn\\linear_model\\_coordinate_descent.py:529: ConvergenceWarning: Objective did not converge. You might want to increase the number of iterations. Duality gap: 399176387081.02966, tolerance: 615098412.8205527\n",
      "  model = cd_fast.enet_coordinate_descent(\n"
     ]
    },
    {
     "data": {
      "text/plain": [
       "SelectFromModel(estimator=Lasso(alpha=0.005, random_state=0), threshold=0.25)"
      ]
     },
     "execution_count": 32,
     "metadata": {},
     "output_type": "execute_result"
    }
   ],
   "source": [
    "feature_sel_model = SelectFromModel(clf, threshold=0.25)\n",
    "feature_sel_model.fit(X_train, y_train)"
   ]
  },
  {
   "cell_type": "code",
   "execution_count": 33,
   "metadata": {},
   "outputs": [],
   "source": [
    "X_train = feature_sel_model.transform(X_train)\n",
    "X_test = feature_sel_model.transform(X_test)"
   ]
  },
  {
   "cell_type": "markdown",
   "metadata": {},
   "source": [
    "<p><strong>Modeling</strong></p>\n",
    "<p>We will model (1) Linear regression, (2) Ordinary Least Squares, (3) Random Forest, and (4) SVR and decide which model is best.</p>"
   ]
  },
  {
   "cell_type": "markdown",
   "metadata": {},
   "source": [
    "<strong>(1) Linear Regression</strong>"
   ]
  },
  {
   "cell_type": "code",
   "execution_count": 34,
   "metadata": {},
   "outputs": [
    {
     "data": {
      "text/plain": [
       "LinearRegression()"
      ]
     },
     "execution_count": 34,
     "metadata": {},
     "output_type": "execute_result"
    }
   ],
   "source": [
    "#Fit the model\n",
    "from sklearn.linear_model import LinearRegression\n",
    "LinearRegressor = LinearRegression()\n",
    "LinearRegressor.fit(X_train, y_train)"
   ]
  },
  {
   "cell_type": "code",
   "execution_count": 35,
   "metadata": {},
   "outputs": [
    {
     "data": {
      "text/plain": [
       "0.8359781242064662"
      ]
     },
     "execution_count": 35,
     "metadata": {},
     "output_type": "execute_result"
    }
   ],
   "source": [
    "#Calculate the R2 score\n",
    "from sklearn.metrics import r2_score\n",
    "y_pred = LinearRegressor.predict(X_test)\n",
    "Linear_Regression_Score = r2_score(y_test, y_pred)\n",
    "Linear_Regression_Score"
   ]
  },
  {
   "cell_type": "code",
   "execution_count": 36,
   "metadata": {},
   "outputs": [
    {
     "data": {
      "text/plain": [
       "33831.34682705405"
      ]
     },
     "execution_count": 36,
     "metadata": {},
     "output_type": "execute_result"
    }
   ],
   "source": [
    "from sklearn.metrics import mean_squared_error\n",
    "MSE_LR = mean_squared_error(y_test, y_pred, squared = False)\n",
    "MSE_LR"
   ]
  },
  {
   "cell_type": "code",
   "execution_count": 37,
   "metadata": {},
   "outputs": [
    {
     "data": {
      "text/plain": [
       "Text(0, 0.5, 'Prediction')"
      ]
     },
     "execution_count": 37,
     "metadata": {},
     "output_type": "execute_result"
    },
    {
     "data": {
      "image/png": "[encoded data removed]",
      "text/plain": [
       "<Figure size 432x288 with 1 Axes>"
      ]
     },
     "metadata": {
      "needs_background": "light"
     },
     "output_type": "display_data"
    }
   ],
   "source": [
    "plt.scatter(y_test, y_pred, color='green', alpha=0.5)\n",
    "plt.title('LR Analysis for Housing Prices')\n",
    "plt.xlabel('Test')\n",
    "plt.ylabel('Prediction')"
   ]
  },
  {
   "cell_type": "markdown",
   "metadata": {},
   "source": [
    "There is a positive correlation here, but as the plot shows, houses that cost over 400,000 are predicted to have lower prices. Let's see if we can build a better model."
   ]
  },
  {
   "cell_type": "markdown",
   "metadata": {},
   "source": [
    "<strong>(2) Ordinary Least Squares</strong>"
   ]
  },
  {
   "cell_type": "code",
   "execution_count": 38,
   "metadata": {},
   "outputs": [],
   "source": [
    "# Adding a constant to X is necessary for Ordinary Least Squares Regression.\n",
    "X = sm.add_constant(X)"
   ]
  },
  {
   "cell_type": "code",
   "execution_count": 39,
   "metadata": {},
   "outputs": [
    {
     "data": {
      "text/html": [
       "<table class=\"simpletable\">\n",
       "<caption>OLS Regression Results</caption>\n",
       "<tr>\n",
       "  <th>Dep. Variable:</th>        <td>SalePrice</td>    <th>  R-squared:         </th> <td>   0.807</td> \n",
       "</tr>\n",
       "<tr>\n",
       "  <th>Model:</th>                   <td>OLS</td>       <th>  Adj. R-squared:    </th> <td>   0.800</td> \n",
       "</tr>\n",
       "<tr>\n",
       "  <th>Method:</th>             <td>Least Squares</td>  <th>  F-statistic:       </th> <td>   108.4</td> \n",
       "</tr>\n",
       "<tr>\n",
       "  <th>Date:</th>             <td>Mon, 08 Feb 2021</td> <th>  Prob (F-statistic):</th> <td>3.53e-321</td>\n",
       "</tr>\n",
       "<tr>\n",
       "  <th>Time:</th>                 <td>05:50:24</td>     <th>  Log-Likelihood:    </th> <td> -12115.</td> \n",
       "</tr>\n",
       "<tr>\n",
       "  <th>No. Observations:</th>      <td>  1022</td>      <th>  AIC:               </th> <td>2.431e+04</td>\n",
       "</tr>\n",
       "<tr>\n",
       "  <th>Df Residuals:</th>          <td>   983</td>      <th>  BIC:               </th> <td>2.450e+04</td>\n",
       "</tr>\n",
       "<tr>\n",
       "  <th>Df Model:</th>              <td>    38</td>      <th>                     </th>     <td> </td>    \n",
       "</tr>\n",
       "<tr>\n",
       "  <th>Covariance Type:</th>      <td>nonrobust</td>    <th>                     </th>     <td> </td>    \n",
       "</tr>\n",
       "</table>\n",
       "<table class=\"simpletable\">\n",
       "<tr>\n",
       "   <td></td>      <th>coef</th>     <th>std err</th>      <th>t</th>      <th>P>|t|</th>  <th>[0.025</th>    <th>0.975]</th>  \n",
       "</tr>\n",
       "<tr>\n",
       "  <th>x1</th>  <td>-3893.6116</td> <td> 3792.637</td> <td>   -1.027</td> <td> 0.305</td> <td>-1.13e+04</td> <td> 3548.985</td>\n",
       "</tr>\n",
       "<tr>\n",
       "  <th>x2</th>  <td>-4660.0872</td> <td> 1.64e+04</td> <td>   -0.285</td> <td> 0.776</td> <td>-3.68e+04</td> <td> 2.75e+04</td>\n",
       "</tr>\n",
       "<tr>\n",
       "  <th>x3</th>  <td> 8.257e+04</td> <td> 2.36e+04</td> <td>    3.504</td> <td> 0.000</td> <td> 3.63e+04</td> <td> 1.29e+05</td>\n",
       "</tr>\n",
       "<tr>\n",
       "  <th>x4</th>  <td> 1.065e+05</td> <td> 1.38e+04</td> <td>    7.705</td> <td> 0.000</td> <td> 7.94e+04</td> <td> 1.34e+05</td>\n",
       "</tr>\n",
       "<tr>\n",
       "  <th>x5</th>  <td> 3.292e+04</td> <td> 1.01e+04</td> <td>    3.275</td> <td> 0.001</td> <td> 1.32e+04</td> <td> 5.26e+04</td>\n",
       "</tr>\n",
       "<tr>\n",
       "  <th>x6</th>  <td>-1.081e+05</td> <td> 1.97e+04</td> <td>   -5.476</td> <td> 0.000</td> <td>-1.47e+05</td> <td>-6.94e+04</td>\n",
       "</tr>\n",
       "<tr>\n",
       "  <th>x7</th>  <td> 2.432e+04</td> <td> 1.03e+04</td> <td>    2.351</td> <td> 0.019</td> <td> 4022.737</td> <td> 4.46e+04</td>\n",
       "</tr>\n",
       "<tr>\n",
       "  <th>x8</th>  <td> 3.252e+04</td> <td> 9817.042</td> <td>    3.312</td> <td> 0.001</td> <td> 1.33e+04</td> <td> 5.18e+04</td>\n",
       "</tr>\n",
       "<tr>\n",
       "  <th>x9</th>  <td>-1.566e+04</td> <td> 1.37e+04</td> <td>   -1.145</td> <td> 0.252</td> <td>-4.25e+04</td> <td> 1.12e+04</td>\n",
       "</tr>\n",
       "<tr>\n",
       "  <th>x10</th> <td> 4.322e+04</td> <td> 7855.053</td> <td>    5.502</td> <td> 0.000</td> <td> 2.78e+04</td> <td> 5.86e+04</td>\n",
       "</tr>\n",
       "<tr>\n",
       "  <th>x11</th> <td>-6016.4803</td> <td> 1.23e+04</td> <td>   -0.490</td> <td> 0.624</td> <td>-3.01e+04</td> <td> 1.81e+04</td>\n",
       "</tr>\n",
       "<tr>\n",
       "  <th>x12</th> <td>  1.51e+04</td> <td> 3638.538</td> <td>    4.151</td> <td> 0.000</td> <td> 7963.848</td> <td> 2.22e+04</td>\n",
       "</tr>\n",
       "<tr>\n",
       "  <th>x13</th> <td> 8160.4718</td> <td> 4098.248</td> <td>    1.991</td> <td> 0.047</td> <td>  118.152</td> <td> 1.62e+04</td>\n",
       "</tr>\n",
       "<tr>\n",
       "  <th>x14</th> <td> 4.818e+04</td> <td>  2.1e+04</td> <td>    2.293</td> <td> 0.022</td> <td> 6954.031</td> <td> 8.94e+04</td>\n",
       "</tr>\n",
       "<tr>\n",
       "  <th>x15</th> <td>-4451.9743</td> <td> 1.12e+04</td> <td>   -0.396</td> <td> 0.692</td> <td>-2.65e+04</td> <td> 1.76e+04</td>\n",
       "</tr>\n",
       "<tr>\n",
       "  <th>x16</th> <td> 1.281e+04</td> <td> 1.44e+04</td> <td>    0.887</td> <td> 0.375</td> <td>-1.55e+04</td> <td> 4.11e+04</td>\n",
       "</tr>\n",
       "<tr>\n",
       "  <th>x17</th> <td> 8437.5769</td> <td> 9309.992</td> <td>    0.906</td> <td> 0.365</td> <td>-9832.166</td> <td> 2.67e+04</td>\n",
       "</tr>\n",
       "<tr>\n",
       "  <th>x18</th> <td> 9562.5348</td> <td> 5892.201</td> <td>    1.623</td> <td> 0.105</td> <td>-2000.204</td> <td> 2.11e+04</td>\n",
       "</tr>\n",
       "<tr>\n",
       "  <th>x19</th> <td> 3949.2945</td> <td>  1.4e+04</td> <td>    0.282</td> <td> 0.778</td> <td>-2.35e+04</td> <td> 3.14e+04</td>\n",
       "</tr>\n",
       "<tr>\n",
       "  <th>x20</th> <td> 1.303e+05</td> <td> 2.52e+04</td> <td>    5.174</td> <td> 0.000</td> <td> 8.09e+04</td> <td>  1.8e+05</td>\n",
       "</tr>\n",
       "<tr>\n",
       "  <th>x21</th> <td> 1.933e+04</td> <td>  1.2e+04</td> <td>    1.608</td> <td> 0.108</td> <td>-4260.241</td> <td> 4.29e+04</td>\n",
       "</tr>\n",
       "<tr>\n",
       "  <th>x22</th> <td> 5192.1503</td> <td> 5187.416</td> <td>    1.001</td> <td> 0.317</td> <td>-4987.533</td> <td> 1.54e+04</td>\n",
       "</tr>\n",
       "<tr>\n",
       "  <th>x23</th> <td> 2.848e+04</td> <td> 8071.493</td> <td>    3.528</td> <td> 0.000</td> <td> 1.26e+04</td> <td> 4.43e+04</td>\n",
       "</tr>\n",
       "<tr>\n",
       "  <th>x24</th> <td> 3.172e+04</td> <td> 1.53e+04</td> <td>    2.073</td> <td> 0.038</td> <td> 1699.515</td> <td> 6.17e+04</td>\n",
       "</tr>\n",
       "<tr>\n",
       "  <th>x25</th> <td> 2.289e+04</td> <td> 1.01e+04</td> <td>    2.272</td> <td> 0.023</td> <td> 3118.665</td> <td> 4.27e+04</td>\n",
       "</tr>\n",
       "<tr>\n",
       "  <th>x26</th> <td> 3.078e+04</td> <td> 6836.956</td> <td>    4.501</td> <td> 0.000</td> <td> 1.74e+04</td> <td> 4.42e+04</td>\n",
       "</tr>\n",
       "<tr>\n",
       "  <th>x27</th> <td> 2.053e+04</td> <td> 8445.215</td> <td>    2.431</td> <td> 0.015</td> <td> 3956.664</td> <td> 3.71e+04</td>\n",
       "</tr>\n",
       "<tr>\n",
       "  <th>x28</th> <td>-1006.2688</td> <td> 8802.760</td> <td>   -0.114</td> <td> 0.909</td> <td>-1.83e+04</td> <td> 1.63e+04</td>\n",
       "</tr>\n",
       "<tr>\n",
       "  <th>x29</th> <td>-5643.7123</td> <td> 9126.600</td> <td>   -0.618</td> <td> 0.536</td> <td>-2.36e+04</td> <td> 1.23e+04</td>\n",
       "</tr>\n",
       "<tr>\n",
       "  <th>x30</th> <td> 4.851e+04</td> <td>  1.4e+04</td> <td>    3.468</td> <td> 0.001</td> <td> 2.11e+04</td> <td>  7.6e+04</td>\n",
       "</tr>\n",
       "<tr>\n",
       "  <th>x31</th> <td> 7263.2147</td> <td> 1.73e+04</td> <td>    0.419</td> <td> 0.675</td> <td>-2.68e+04</td> <td> 4.13e+04</td>\n",
       "</tr>\n",
       "<tr>\n",
       "  <th>x32</th> <td>  4.78e+04</td> <td> 2.39e+04</td> <td>    1.998</td> <td> 0.046</td> <td>  862.262</td> <td> 9.47e+04</td>\n",
       "</tr>\n",
       "<tr>\n",
       "  <th>x33</th> <td>-8916.6578</td> <td> 2.47e+04</td> <td>   -0.360</td> <td> 0.719</td> <td>-5.75e+04</td> <td> 3.96e+04</td>\n",
       "</tr>\n",
       "<tr>\n",
       "  <th>x34</th> <td> 1.189e+04</td> <td> 7903.856</td> <td>    1.504</td> <td> 0.133</td> <td>-3619.241</td> <td> 2.74e+04</td>\n",
       "</tr>\n",
       "<tr>\n",
       "  <th>x35</th> <td>-2.763e+04</td> <td> 2.27e+04</td> <td>   -1.219</td> <td> 0.223</td> <td>-7.21e+04</td> <td> 1.68e+04</td>\n",
       "</tr>\n",
       "<tr>\n",
       "  <th>x36</th> <td> 4298.4819</td> <td> 3884.123</td> <td>    1.107</td> <td> 0.269</td> <td>-3323.645</td> <td> 1.19e+04</td>\n",
       "</tr>\n",
       "<tr>\n",
       "  <th>x37</th> <td>-1.873e+04</td> <td> 2.77e+04</td> <td>   -0.675</td> <td> 0.500</td> <td>-7.32e+04</td> <td> 3.57e+04</td>\n",
       "</tr>\n",
       "<tr>\n",
       "  <th>x38</th> <td>-1.133e+05</td> <td> 1.76e+04</td> <td>   -6.417</td> <td> 0.000</td> <td>-1.48e+05</td> <td>-7.86e+04</td>\n",
       "</tr>\n",
       "<tr>\n",
       "  <th>x39</th> <td>  131.0087</td> <td> 2619.745</td> <td>    0.050</td> <td> 0.960</td> <td>-5009.928</td> <td> 5271.945</td>\n",
       "</tr>\n",
       "<tr>\n",
       "  <th>x40</th> <td> 8.718e+04</td> <td> 1.13e+04</td> <td>    7.740</td> <td> 0.000</td> <td> 6.51e+04</td> <td> 1.09e+05</td>\n",
       "</tr>\n",
       "</table>\n",
       "<table class=\"simpletable\">\n",
       "<tr>\n",
       "  <th>Omnibus:</th>       <td>435.063</td> <th>  Durbin-Watson:     </th> <td>   2.080</td> \n",
       "</tr>\n",
       "<tr>\n",
       "  <th>Prob(Omnibus):</th> <td> 0.000</td>  <th>  Jarque-Bera (JB):  </th> <td>66061.342</td>\n",
       "</tr>\n",
       "<tr>\n",
       "  <th>Skew:</th>          <td>-0.853</td>  <th>  Prob(JB):          </th> <td>    0.00</td> \n",
       "</tr>\n",
       "<tr>\n",
       "  <th>Kurtosis:</th>      <td>42.350</td>  <th>  Cond. No.          </th> <td>2.25e+15</td> \n",
       "</tr>\n",
       "</table><br/><br/>Notes:<br/>[1] Standard Errors assume that the covariance matrix of the errors is correctly specified.<br/>[2] The smallest eigenvalue is 1.57e-27. This might indicate that there are<br/>strong multicollinearity problems or that the design matrix is singular."
      ],
      "text/plain": [
       "<class 'statsmodels.iolib.summary.Summary'>\n",
       "\"\"\"\n",
       "                            OLS Regression Results                            \n",
       "==============================================================================\n",
       "Dep. Variable:              SalePrice   R-squared:                       0.807\n",
       "Model:                            OLS   Adj. R-squared:                  0.800\n",
       "Method:                 Least Squares   F-statistic:                     108.4\n",
       "Date:                Mon, 08 Feb 2021   Prob (F-statistic):          3.53e-321\n",
       "Time:                        05:50:24   Log-Likelihood:                -12115.\n",
       "No. Observations:                1022   AIC:                         2.431e+04\n",
       "Df Residuals:                     983   BIC:                         2.450e+04\n",
       "Df Model:                          38                                         \n",
       "Covariance Type:            nonrobust                                         \n",
       "==============================================================================\n",
       "                 coef    std err          t      P>|t|      [0.025      0.975]\n",
       "------------------------------------------------------------------------------\n",
       "x1         -3893.6116   3792.637     -1.027      0.305   -1.13e+04    3548.985\n",
       "x2         -4660.0872   1.64e+04     -0.285      0.776   -3.68e+04    2.75e+04\n",
       "x3          8.257e+04   2.36e+04      3.504      0.000    3.63e+04    1.29e+05\n",
       "x4          1.065e+05   1.38e+04      7.705      0.000    7.94e+04    1.34e+05\n",
       "x5          3.292e+04   1.01e+04      3.275      0.001    1.32e+04    5.26e+04\n",
       "x6         -1.081e+05   1.97e+04     -5.476      0.000   -1.47e+05   -6.94e+04\n",
       "x7          2.432e+04   1.03e+04      2.351      0.019    4022.737    4.46e+04\n",
       "x8          3.252e+04   9817.042      3.312      0.001    1.33e+04    5.18e+04\n",
       "x9         -1.566e+04   1.37e+04     -1.145      0.252   -4.25e+04    1.12e+04\n",
       "x10         4.322e+04   7855.053      5.502      0.000    2.78e+04    5.86e+04\n",
       "x11        -6016.4803   1.23e+04     -0.490      0.624   -3.01e+04    1.81e+04\n",
       "x12          1.51e+04   3638.538      4.151      0.000    7963.848    2.22e+04\n",
       "x13         8160.4718   4098.248      1.991      0.047     118.152    1.62e+04\n",
       "x14         4.818e+04    2.1e+04      2.293      0.022    6954.031    8.94e+04\n",
       "x15        -4451.9743   1.12e+04     -0.396      0.692   -2.65e+04    1.76e+04\n",
       "x16         1.281e+04   1.44e+04      0.887      0.375   -1.55e+04    4.11e+04\n",
       "x17         8437.5769   9309.992      0.906      0.365   -9832.166    2.67e+04\n",
       "x18         9562.5348   5892.201      1.623      0.105   -2000.204    2.11e+04\n",
       "x19         3949.2945    1.4e+04      0.282      0.778   -2.35e+04    3.14e+04\n",
       "x20         1.303e+05   2.52e+04      5.174      0.000    8.09e+04     1.8e+05\n",
       "x21         1.933e+04    1.2e+04      1.608      0.108   -4260.241    4.29e+04\n",
       "x22         5192.1503   5187.416      1.001      0.317   -4987.533    1.54e+04\n",
       "x23         2.848e+04   8071.493      3.528      0.000    1.26e+04    4.43e+04\n",
       "x24         3.172e+04   1.53e+04      2.073      0.038    1699.515    6.17e+04\n",
       "x25         2.289e+04   1.01e+04      2.272      0.023    3118.665    4.27e+04\n",
       "x26         3.078e+04   6836.956      4.501      0.000    1.74e+04    4.42e+04\n",
       "x27         2.053e+04   8445.215      2.431      0.015    3956.664    3.71e+04\n",
       "x28        -1006.2688   8802.760     -0.114      0.909   -1.83e+04    1.63e+04\n",
       "x29        -5643.7123   9126.600     -0.618      0.536   -2.36e+04    1.23e+04\n",
       "x30         4.851e+04    1.4e+04      3.468      0.001    2.11e+04     7.6e+04\n",
       "x31         7263.2147   1.73e+04      0.419      0.675   -2.68e+04    4.13e+04\n",
       "x32          4.78e+04   2.39e+04      1.998      0.046     862.262    9.47e+04\n",
       "x33        -8916.6578   2.47e+04     -0.360      0.719   -5.75e+04    3.96e+04\n",
       "x34         1.189e+04   7903.856      1.504      0.133   -3619.241    2.74e+04\n",
       "x35        -2.763e+04   2.27e+04     -1.219      0.223   -7.21e+04    1.68e+04\n",
       "x36         4298.4819   3884.123      1.107      0.269   -3323.645    1.19e+04\n",
       "x37        -1.873e+04   2.77e+04     -0.675      0.500   -7.32e+04    3.57e+04\n",
       "x38        -1.133e+05   1.76e+04     -6.417      0.000   -1.48e+05   -7.86e+04\n",
       "x39          131.0087   2619.745      0.050      0.960   -5009.928    5271.945\n",
       "x40         8.718e+04   1.13e+04      7.740      0.000    6.51e+04    1.09e+05\n",
       "==============================================================================\n",
       "Omnibus:                      435.063   Durbin-Watson:                   2.080\n",
       "Prob(Omnibus):                  0.000   Jarque-Bera (JB):            66061.342\n",
       "Skew:                          -0.853   Prob(JB):                         0.00\n",
       "Kurtosis:                      42.350   Cond. No.                     2.25e+15\n",
       "==============================================================================\n",
       "\n",
       "Notes:\n",
       "[1] Standard Errors assume that the covariance matrix of the errors is correctly specified.\n",
       "[2] The smallest eigenvalue is 1.57e-27. This might indicate that there are\n",
       "strong multicollinearity problems or that the design matrix is singular.\n",
       "\"\"\""
      ]
     },
     "execution_count": 39,
     "metadata": {},
     "output_type": "execute_result"
    }
   ],
   "source": [
    "housing_ols = sm.OLS(y_train, X_train)\n",
    "housing_ols_results = housing_ols.fit()\n",
    "housing_ols_results.summary()"
   ]
  },
  {
   "cell_type": "code",
   "execution_count": 40,
   "metadata": {},
   "outputs": [],
   "source": [
    "y_pred = housing_ols_results.predict(X_test)"
   ]
  },
  {
   "cell_type": "code",
   "execution_count": 41,
   "metadata": {},
   "outputs": [
    {
     "data": {
      "text/plain": [
       "Text(0, 0.5, 'Fixed.acidity')"
      ]
     },
     "execution_count": 41,
     "metadata": {},
     "output_type": "execute_result"
    },
    {
     "data": {
      "image/png": "[encoded data removed]",
      "text/plain": [
       "<Figure size 432x288 with 1 Axes>"
      ]
     },
     "metadata": {
      "needs_background": "light"
     },
     "output_type": "display_data"
    }
   ],
   "source": [
    "plt.scatter(y_test, y_pred, color='purple', alpha=0.5)\n",
    "\n",
    "plt.plot([x for x in range(100000,500000)],[x for x in range(100000,500000)], color='lightgreen')\n",
    "\n",
    "plt.title('Model 2 testing')\n",
    "plt.xlabel('Density')\n",
    "plt.ylabel('Fixed.acidity')"
   ]
  },
  {
   "cell_type": "markdown",
   "metadata": {},
   "source": [
    "The R2 score for Ordinary Least Squares shows about 80% of the variance is explained by this model. Let's see if we can get a better result using multiple linear regression."
   ]
  },
  {
   "cell_type": "markdown",
   "metadata": {},
   "source": [
    "<strong>(3) Random Forest Regressor</strong>"
   ]
  },
  {
   "cell_type": "code",
   "execution_count": 42,
   "metadata": {},
   "outputs": [
    {
     "data": {
      "text/plain": [
       "RandomForestRegressor()"
      ]
     },
     "execution_count": 42,
     "metadata": {},
     "output_type": "execute_result"
    }
   ],
   "source": [
    "from sklearn.ensemble import RandomForestRegressor\n",
    "RFR = RandomForestRegressor()\n",
    "RFR.fit(X_train,y_train)"
   ]
  },
  {
   "cell_type": "code",
   "execution_count": 43,
   "metadata": {},
   "outputs": [
    {
     "data": {
      "text/plain": [
       "0.8948617975573424"
      ]
     },
     "execution_count": 43,
     "metadata": {},
     "output_type": "execute_result"
    }
   ],
   "source": [
    "y_pred_RFR = RFR.predict(X_test)\n",
    "RFR_Score = r2_score(y_test, y_pred_RFR)\n",
    "RFR_Score"
   ]
  },
  {
   "cell_type": "code",
   "execution_count": 44,
   "metadata": {},
   "outputs": [
    {
     "data": {
      "text/plain": [
       "27086.236994117193"
      ]
     },
     "execution_count": 44,
     "metadata": {},
     "output_type": "execute_result"
    }
   ],
   "source": [
    "MSE_RFR = mean_squared_error(y_test, y_pred_RFR, squared = False)\n",
    "MSE_RFR"
   ]
  },
  {
   "cell_type": "markdown",
   "metadata": {},
   "source": [
    "<strong>(4) SVR</strong>"
   ]
  },
  {
   "cell_type": "code",
   "execution_count": 45,
   "metadata": {},
   "outputs": [
    {
     "data": {
      "text/plain": [
       "SVR()"
      ]
     },
     "execution_count": 45,
     "metadata": {},
     "output_type": "execute_result"
    }
   ],
   "source": [
    "from sklearn.svm import SVR\n",
    "SVReg = SVR(kernel = 'rbf')\n",
    "SVReg.fit(X_train, y_train)"
   ]
  },
  {
   "cell_type": "code",
   "execution_count": 46,
   "metadata": {},
   "outputs": [
    {
     "data": {
      "text/plain": [
       "-0.03120565435172762"
      ]
     },
     "execution_count": 46,
     "metadata": {},
     "output_type": "execute_result"
    }
   ],
   "source": [
    "y_pred_SVR = SVReg.predict(X_test)\n",
    "SVR_Score = r2_score(y_test, y_pred_SVR)\n",
    "SVR_Score"
   ]
  },
  {
   "cell_type": "code",
   "execution_count": 47,
   "metadata": {},
   "outputs": [
    {
     "data": {
      "text/plain": [
       "84828.35459253659"
      ]
     },
     "execution_count": 47,
     "metadata": {},
     "output_type": "execute_result"
    }
   ],
   "source": [
    "MSE_SVR = mean_squared_error(y_test, y_pred_SVR, squared = False)\n",
    "MSE_SVR"
   ]
  },
  {
   "cell_type": "markdown",
   "metadata": {},
   "source": [
    "The random forest regressor model is the best of the models I tried because it showed the highest R2 score, with about 89% of the variance explained by the model, and the lowest mean squared error, of 27,274. SVR is the worst of the models in this report because of its low R2 score, -0.03, and high mean squared error of 84,828."
   ]
  },
  {
   "cell_type": "code",
   "execution_count": 59,
   "metadata": {},
   "outputs": [
    {
     "data": {
      "text/html": [
       "<div>\n",
       "<style scoped>\n",
       "    .dataframe tbody tr th:only-of-type {\n",
       "        vertical-align: middle;\n",
       "    }\n",
       "\n",
       "    .dataframe tbody tr th {\n",
       "        vertical-align: top;\n",
       "    }\n",
       "\n",
       "    .dataframe thead th {\n",
       "        text-align: right;\n",
       "    }\n",
       "</style>\n",
       "<table border=\"1\" class=\"dataframe\">\n",
       "  <thead>\n",
       "    <tr style=\"text-align: right;\">\n",
       "      <th></th>\n",
       "      <th>SalePrice</th>\n",
       "    </tr>\n",
       "  </thead>\n",
       "  <tbody>\n",
       "    <tr>\n",
       "      <th>SalePrice</th>\n",
       "      <td>1.000000</td>\n",
       "    </tr>\n",
       "    <tr>\n",
       "      <th>OverallQual</th>\n",
       "      <td>0.790982</td>\n",
       "    </tr>\n",
       "    <tr>\n",
       "      <th>GrLivArea</th>\n",
       "      <td>0.708624</td>\n",
       "    </tr>\n",
       "    <tr>\n",
       "      <th>ExteriorQ</th>\n",
       "      <td>0.682639</td>\n",
       "    </tr>\n",
       "    <tr>\n",
       "      <th>Kitchen</th>\n",
       "      <td>0.659600</td>\n",
       "    </tr>\n",
       "    <tr>\n",
       "      <th>GarageCars</th>\n",
       "      <td>0.640409</td>\n",
       "    </tr>\n",
       "    <tr>\n",
       "      <th>GarageArea</th>\n",
       "      <td>0.623431</td>\n",
       "    </tr>\n",
       "    <tr>\n",
       "      <th>BasementQ</th>\n",
       "      <td>0.617356</td>\n",
       "    </tr>\n",
       "    <tr>\n",
       "      <th>FullBath</th>\n",
       "      <td>0.582934</td>\n",
       "    </tr>\n",
       "    <tr>\n",
       "      <th>TotRmsAbvGrd</th>\n",
       "      <td>0.533723</td>\n",
       "    </tr>\n",
       "    <tr>\n",
       "      <th>YearBuilt</th>\n",
       "      <td>0.522897</td>\n",
       "    </tr>\n",
       "    <tr>\n",
       "      <th>HouseAge</th>\n",
       "      <td>0.522897</td>\n",
       "    </tr>\n",
       "    <tr>\n",
       "      <th>MasVnrArea</th>\n",
       "      <td>0.472614</td>\n",
       "    </tr>\n",
       "    <tr>\n",
       "      <th>Fireplaces</th>\n",
       "      <td>0.466929</td>\n",
       "    </tr>\n",
       "    <tr>\n",
       "      <th>GarageYrBlt</th>\n",
       "      <td>0.466754</td>\n",
       "    </tr>\n",
       "    <tr>\n",
       "      <th>Heating</th>\n",
       "      <td>0.427649</td>\n",
       "    </tr>\n",
       "    <tr>\n",
       "      <th>BsmtFinSF1</th>\n",
       "      <td>0.386420</td>\n",
       "    </tr>\n",
       "    <tr>\n",
       "      <th>BasementEx</th>\n",
       "      <td>0.361863</td>\n",
       "    </tr>\n",
       "    <tr>\n",
       "      <th>LotFrontage</th>\n",
       "      <td>0.334771</td>\n",
       "    </tr>\n",
       "    <tr>\n",
       "      <th>WoodDeckSF</th>\n",
       "      <td>0.324413</td>\n",
       "    </tr>\n",
       "    <tr>\n",
       "      <th>Porch</th>\n",
       "      <td>0.296678</td>\n",
       "    </tr>\n",
       "    <tr>\n",
       "      <th>Basement1</th>\n",
       "      <td>0.269314</td>\n",
       "    </tr>\n",
       "    <tr>\n",
       "      <th>LotArea</th>\n",
       "      <td>0.263843</td>\n",
       "    </tr>\n",
       "    <tr>\n",
       "      <th>HalfBath</th>\n",
       "      <td>0.250628</td>\n",
       "    </tr>\n",
       "    <tr>\n",
       "      <th>BsmtUnfSF</th>\n",
       "      <td>0.214479</td>\n",
       "    </tr>\n",
       "    <tr>\n",
       "      <th>BasementC</th>\n",
       "      <td>0.159445</td>\n",
       "    </tr>\n",
       "    <tr>\n",
       "      <th>Pool</th>\n",
       "      <td>0.146942</td>\n",
       "    </tr>\n",
       "    <tr>\n",
       "      <th>FenceType</th>\n",
       "      <td>0.146942</td>\n",
       "    </tr>\n",
       "    <tr>\n",
       "      <th>GarageQ</th>\n",
       "      <td>0.145904</td>\n",
       "    </tr>\n",
       "    <tr>\n",
       "      <th>Garage</th>\n",
       "      <td>0.135176</td>\n",
       "    </tr>\n",
       "    <tr>\n",
       "      <th>GarageC</th>\n",
       "      <td>0.114733</td>\n",
       "    </tr>\n",
       "    <tr>\n",
       "      <th>Function</th>\n",
       "      <td>0.107619</td>\n",
       "    </tr>\n",
       "    <tr>\n",
       "      <th>PoolArea</th>\n",
       "      <td>0.092404</td>\n",
       "    </tr>\n",
       "    <tr>\n",
       "      <th>OverallCond</th>\n",
       "      <td>0.077856</td>\n",
       "    </tr>\n",
       "    <tr>\n",
       "      <th>Basement2</th>\n",
       "      <td>0.032060</td>\n",
       "    </tr>\n",
       "    <tr>\n",
       "      <th>LowQualFinSF</th>\n",
       "      <td>0.025606</td>\n",
       "    </tr>\n",
       "    <tr>\n",
       "      <th>Unnamed: 0.1</th>\n",
       "      <td>0.021917</td>\n",
       "    </tr>\n",
       "    <tr>\n",
       "      <th>Unnamed: 0</th>\n",
       "      <td>0.021917</td>\n",
       "    </tr>\n",
       "    <tr>\n",
       "      <th>MiscVal</th>\n",
       "      <td>0.021190</td>\n",
       "    </tr>\n",
       "    <tr>\n",
       "      <th>ExteriorC</th>\n",
       "      <td>0.018899</td>\n",
       "    </tr>\n",
       "    <tr>\n",
       "      <th>BsmtFinSF2</th>\n",
       "      <td>0.011378</td>\n",
       "    </tr>\n",
       "    <tr>\n",
       "      <th>FireplaceQ</th>\n",
       "      <td>0.000452</td>\n",
       "    </tr>\n",
       "  </tbody>\n",
       "</table>\n",
       "</div>"
      ],
      "text/plain": [
       "              SalePrice\n",
       "SalePrice      1.000000\n",
       "OverallQual    0.790982\n",
       "GrLivArea      0.708624\n",
       "ExteriorQ      0.682639\n",
       "Kitchen        0.659600\n",
       "GarageCars     0.640409\n",
       "GarageArea     0.623431\n",
       "BasementQ      0.617356\n",
       "FullBath       0.582934\n",
       "TotRmsAbvGrd   0.533723\n",
       "YearBuilt      0.522897\n",
       "HouseAge       0.522897\n",
       "MasVnrArea     0.472614\n",
       "Fireplaces     0.466929\n",
       "GarageYrBlt    0.466754\n",
       "Heating        0.427649\n",
       "BsmtFinSF1     0.386420\n",
       "BasementEx     0.361863\n",
       "LotFrontage    0.334771\n",
       "WoodDeckSF     0.324413\n",
       "Porch          0.296678\n",
       "Basement1      0.269314\n",
       "LotArea        0.263843\n",
       "HalfBath       0.250628\n",
       "BsmtUnfSF      0.214479\n",
       "BasementC      0.159445\n",
       "Pool           0.146942\n",
       "FenceType      0.146942\n",
       "GarageQ        0.145904\n",
       "Garage         0.135176\n",
       "GarageC        0.114733\n",
       "Function       0.107619\n",
       "PoolArea       0.092404\n",
       "OverallCond    0.077856\n",
       "Basement2      0.032060\n",
       "LowQualFinSF   0.025606\n",
       "Unnamed: 0.1   0.021917\n",
       "Unnamed: 0     0.021917\n",
       "MiscVal        0.021190\n",
       "ExteriorC      0.018899\n",
       "BsmtFinSF2     0.011378\n",
       "FireplaceQ     0.000452"
      ]
     },
     "execution_count": 59,
     "metadata": {},
     "output_type": "execute_result"
    }
   ],
   "source": [
    "best_feat = np.abs(housing.corr()['SalePrice'])\n",
    "best_feat_corr = pd.DataFrame(best_feat[:-1]).sort_values('SalePrice',ascending=False)\n",
    "best_feat_corr"
   ]
  },
  {
   "cell_type": "code",
   "execution_count": 60,
   "metadata": {},
   "outputs": [
    {
     "data": {
      "text/plain": [
       "Text(0, 0.5, 'Features')"
      ]
     },
     "execution_count": 60,
     "metadata": {},
     "output_type": "execute_result"
    },
    {
     "data": {
      "image/png": "[encoded data removed]",
      "text/plain": [
       "<Figure size 864x720 with 1 Axes>"
      ]
     },
     "metadata": {
      "needs_background": "light"
     },
     "output_type": "display_data"
    }
   ],
   "source": [
    "plt.figure(figsize=(12,10))\n",
    "sns.barplot(x=best_feat_corr['SalePrice'], y=best_feat_corr.index)\n",
    "plt.xlabel('Feature Importance')\n",
    "plt.ylabel('Features')"
   ]
  },
  {
   "cell_type": "code",
   "execution_count": null,
   "metadata": {},
   "outputs": [],
   "source": []
  }
 ],
 "metadata": {
  "kernelspec": {
   "display_name": "Python 3",
   "language": "python",
   "name": "python3"
  },
  "language_info": {
   "codemirror_mode": {
    "name": "ipython",
    "version": 3
   },
   "file_extension": ".py",
   "mimetype": "text/x-python",
   "name": "python",
   "nbconvert_exporter": "python",
   "pygments_lexer": "ipython3",
   "version": "3.8.5"
  }
 },
 "nbformat": 4,
 "nbformat_minor": 4
}
