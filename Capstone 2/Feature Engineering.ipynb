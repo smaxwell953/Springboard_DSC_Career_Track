{
 "cells": [
  {
   "cell_type": "code",
   "execution_count": 1,
   "metadata": {},
   "outputs": [],
   "source": [
    "import pandas as pd\n",
    "import numpy as np"
   ]
  },
  {
   "cell_type": "code",
   "execution_count": 2,
   "metadata": {},
   "outputs": [],
   "source": [
    "housing = pd.read_csv('housing_cleaned.csv')"
   ]
  },
  {
   "cell_type": "code",
   "execution_count": 3,
   "metadata": {},
   "outputs": [
    {
     "data": {
      "text/plain": [
       "1    1002\n",
       "0     458\n",
       "Name: Porch, dtype: int64"
      ]
     },
     "execution_count": 3,
     "metadata": {},
     "output_type": "execute_result"
    }
   ],
   "source": [
    "#All we need to know is whether or not the house has a porch, so combine all \"porch\" variables\n",
    "housing['Porch'] = housing['OpenPorchSF'] + housing['EnclosedPorch'] + housing['3SsnPorch'] + housing['ScreenPorch']\n",
    "housing['Porch'] = housing['Porch'].astype(bool).astype(int)\n",
    "housing['Porch'].value_counts()"
   ]
  },
  {
   "cell_type": "code",
   "execution_count": 4,
   "metadata": {},
   "outputs": [],
   "source": [
    "#Also combine full baths and half baths because the bathrooms' locations in the house doesn't matter.\n",
    "housing['FullBath'] = housing['FullBath'] + housing['BsmtFullBath']\n",
    "housing['HalfBath'] = housing['HalfBath'] + housing['BsmtHalfBath']"
   ]
  },
  {
   "cell_type": "code",
   "execution_count": 5,
   "metadata": {},
   "outputs": [
    {
     "data": {
      "text/plain": [
       "2    750\n",
       "1    371\n",
       "3    319\n",
       "4     18\n",
       "6      1\n",
       "0      1\n",
       "Name: FullBath, dtype: int64"
      ]
     },
     "execution_count": 5,
     "metadata": {},
     "output_type": "execute_result"
    }
   ],
   "source": [
    "housing['FullBath'].value_counts()"
   ]
  },
  {
   "cell_type": "code",
   "execution_count": 6,
   "metadata": {},
   "outputs": [
    {
     "data": {
      "text/plain": [
       "0    855\n",
       "1    572\n",
       "2     29\n",
       "3      3\n",
       "4      1\n",
       "Name: HalfBath, dtype: int64"
      ]
     },
     "execution_count": 6,
     "metadata": {},
     "output_type": "execute_result"
    }
   ],
   "source": [
    "housing['HalfBath'].value_counts()"
   ]
  },
  {
   "cell_type": "code",
   "execution_count": 7,
   "metadata": {},
   "outputs": [
    {
     "data": {
      "text/plain": [
       "0    2566\n",
       "1    2524\n",
       "2    2706\n",
       "3    2473\n",
       "4    3343\n",
       "Name: TotalSF, dtype: int64"
      ]
     },
     "execution_count": 7,
     "metadata": {},
     "output_type": "execute_result"
    }
   ],
   "source": [
    "#Combine square footage of basement, first floor, and second floor.\n",
    "housing['TotalSF'] = housing['1stFlrSF'] + housing['2ndFlrSF'] + housing['TotalBsmtSF']\n",
    "housing['TotalSF'].head()"
   ]
  },
  {
   "cell_type": "code",
   "execution_count": 8,
   "metadata": {},
   "outputs": [
    {
     "data": {
      "text/plain": [
       "(1460, 42)"
      ]
     },
     "execution_count": 8,
     "metadata": {},
     "output_type": "execute_result"
    }
   ],
   "source": [
    "#Remove columns used to engineer new variabless\n",
    "drop_col = ['BsmtFullBath','BsmtHalfBath', '3SsnPorch', 'EnclosedPorch', 'OpenPorchSF','ScreenPorch', \\\n",
    "            '1stFlrSF','2ndFlrSF','TotalBsmtSF']\n",
    "housing.drop(drop_col, axis=1, inplace=True)\n",
    "housing.shape"
   ]
  },
  {
   "cell_type": "code",
   "execution_count": 10,
   "metadata": {},
   "outputs": [],
   "source": [
    "#export cleaned data as CSV\n",
    "housing.to_csv('housing_cleaned_1.csv')"
   ]
  }
 ],
 "metadata": {
  "kernelspec": {
   "display_name": "Python 3",
   "language": "python",
   "name": "python3"
  },
  "language_info": {
   "codemirror_mode": {
    "name": "ipython",
    "version": 3
   },
   "file_extension": ".py",
   "mimetype": "text/x-python",
   "name": "python",
   "nbconvert_exporter": "python",
   "pygments_lexer": "ipython3",
   "version": "3.8.5"
  }
 },
 "nbformat": 4,
 "nbformat_minor": 4
}
